{
 "cells": [
  {
   "cell_type": "markdown",
   "id": "9ab7a2c9",
   "metadata": {},
   "source": [
    "# 4장. 모델 훈련 (Training Linear Models)"
   ]
  },
  {
   "cell_type": "markdown",
   "id": "85f98a20",
   "metadata": {},
   "source": [
    "참고 사이트\n",
    "- https://codingalzi.github.io/handson-ml2/notebooks/handson-ml2-04.html\n"
   ]
  },
  {
   "cell_type": "markdown",
   "id": "905b9f06",
   "metadata": {},
   "source": [
    "## Setup"
   ]
  },
  {
   "cell_type": "code",
   "execution_count": 1,
   "id": "9563b9b0",
   "metadata": {},
   "outputs": [],
   "source": [
    "# Python ≥3.5 is required\n",
    "import sys\n",
    "assert sys.version_info >= (3, 5)\n",
    "\n",
    "# Scikit-Learn ≥0.20 is required\n",
    "import sklearn\n",
    "assert sklearn.__version__ >= \"0.20\"\n",
    "\n",
    "# Common imports\n",
    "import numpy as np\n",
    "import os\n",
    "\n",
    "# to make this notebook's output stable across runs\n",
    "np.random.seed(42)\n",
    "\n",
    "# To plot pretty figures\n",
    "%matplotlib inline\n",
    "import matplotlib as mpl\n",
    "import matplotlib.pyplot as plt\n",
    "mpl.rc('axes', labelsize=14)\n",
    "mpl.rc('xtick', labelsize=12)\n",
    "mpl.rc('ytick', labelsize=12)\n",
    "\n",
    "# Where to save the figures\n",
    "PROJECT_ROOT_DIR = \".\"\n",
    "CHAPTER_ID = \"training_linear_models\"\n",
    "IMAGES_PATH = os.path.join(PROJECT_ROOT_DIR, \"images\", CHAPTER_ID)\n",
    "os.makedirs(IMAGES_PATH, exist_ok=True)\n",
    "\n",
    "def save_fig(fig_id, tight_layout=True, fig_extension=\"png\", resolution=300):\n",
    "    path = os.path.join(IMAGES_PATH, fig_id + \".\" + fig_extension)\n",
    "    print(\"Saving figure\", fig_id)\n",
    "    if tight_layout:\n",
    "        plt.tight_layout()\n",
    "    plt.savefig(path, format=fig_extension, dpi=resolution)"
   ]
  },
  {
   "cell_type": "markdown",
   "id": "f618da61",
   "metadata": {},
   "source": [
    "## 4.1 Linear Regression (선형 회귀)\n",
    "\n",
    "#### 1) 선형 모델의 예측 : 입력 특성의 가중치의 합 + 편향(bias) 상수 -> 예측값을 만듦.\n",
    "- 예측함수 만들기\n",
    "\n",
    "#### 2) 모델 훈련 (= '모델 파라미터'를 훈련 세트에 가장 잘 맞도록 설정)\n",
    "- 1. 모델을 측정\n",
    "    - 회귀에 가장 많이 사용되는 성능 지표: RMSE\n",
    "    - but, MSE를 이용해 더 간단히 측정 -> MSE 비용함수\n",
    "    <br>\n",
    "    <br>\n",
    "- 2. MSE(θ) 함수를 최소화하는 θ값 찾기\n",
    "    - MSE 비용함수를 최소화할 수 있는 θ값을 찾기 위한 방식 2가지.\n",
    "         1. 정규방정식 (The Normal Equation)\n",
    "         2. 경사하강법 (Gradient Descent)"
   ]
  },
  {
   "cell_type": "markdown",
   "id": "ecf1b0ac",
   "metadata": {},
   "source": [
    "### 4.1.1) The Normal Equation (정규방정식)\n",
    "- θ값을 바로 얻을 수 있고 & 직접 계산하는 경우 활용하는 수학 공식"
   ]
  },
  {
   "cell_type": "markdown",
   "id": "707f0acf",
   "metadata": {},
   "source": [
    "1. 선형처럼 보이는 데이터 생성"
   ]
  },
  {
   "cell_type": "code",
   "execution_count": 2,
   "id": "55f06e5a",
   "metadata": {},
   "outputs": [],
   "source": [
    "X = 2 * np.random.rand(100,1)             #X:특성 x1을 갖는 100개의 데이터\n",
    "y = 4 + 3 * X + np.random.randn(100,1)    #y:100개의 레이블(선형함수에 noise(잡음)추가)"
   ]
  },
  {
   "cell_type": "markdown",
   "id": "ff21d07f",
   "metadata": {},
   "source": [
    "> - np.random.rand(100,1) : 0~1 사이의 **균일 분포(uniform distribution)**에서 무작위 추출  --> 100개의 숫자 & 1개의 열을 가진 배열\n",
    "> - np.random.randn(100,1) : 평균이 0, 표준편차가 1인 **표준 정규 분포(standard normal distribution)**에서 무작위 추출(부동소수점) --> 100개의 행 & 1개의 열을 가진 배열 추출"
   ]
  },
  {
   "cell_type": "code",
   "execution_count": 3,
   "id": "70cc903d",
   "metadata": {},
   "outputs": [],
   "source": [
    "linreg_data = np.c_[X,y]"
   ]
  },
  {
   "attachments": {
    "image.png": {
     "image/png": "[encoded data removed]"
    }
   },
   "cell_type": "markdown",
   "id": "af27ea5c",
   "metadata": {},
   "source": [
    "> - `np.c_[X,y]` : 배열을 **수평**방향으로 결합 ex) X=[1,2,3],y=[4,5,6] 이라면 ➡️ <img src=\"attachment:image.png\" width=\"80\" height=\"150\">\n",
    "    - 각각 X에 따른 y의 값을 확인할 수 있음.\n",
    "\n",
    "> ✔️참고) 배열을 **수직**방향으로 결합 : `np.r_[X,y]` - [X, y]이런 형태 ex) [1,2,3,4,5,6]"
   ]
  },
  {
   "cell_type": "code",
   "execution_count": 4,
   "id": "229567fb",
   "metadata": {},
   "outputs": [
    {
     "data": {
      "text/plain": [
       "array([[0.74908024, 6.33428778],\n",
       "       [1.90142861, 9.40527849],\n",
       "       [1.46398788, 8.48372443],\n",
       "       [1.19731697, 5.60438199],\n",
       "       [0.31203728, 4.71643995]])"
      ]
     },
     "execution_count": 4,
     "metadata": {},
     "output_type": "execute_result"
    }
   ],
   "source": [
    "linreg_data[:5]"
   ]
  },
  {
   "cell_type": "code",
   "execution_count": 5,
   "id": "0362d56d",
   "metadata": {},
   "outputs": [
    {
     "name": "stdout",
     "output_type": "stream",
     "text": [
      "Saving figure generated_data_plot\n"
     ]
    },
    {
     "data": {
      "image/png": "[encoded data removed]",
      "text/plain": [
       "<Figure size 432x288 with 1 Axes>"
      ]
     },
     "metadata": {
      "needs_background": "light"
     },
     "output_type": "display_data"
    }
   ],
   "source": [
    "#특성 x1과 레이블 y의 관계를 그려보자. (무작위로 생성한 선형 데이터셋)\n",
    "\n",
    "plt.plot(X, y, \"b.\")                         #\"b.\":파란색 & 점 (산점도 표시)\n",
    "plt.xlabel(\"$x_1$\", fontsize=18)             #x축 레이블 \n",
    "plt.ylabel(\"$y$\", rotation=0, fontsize=18)   #x축 레이블\n",
    "plt.axis([0, 2, 0, 15])                      #x축, y축 구간 지정\n",
    "\n",
    "save_fig(\"generated_data_plot\")\n",
    "plt.show()"
   ]
  },
  {
   "cell_type": "markdown",
   "id": "3b35cf5b",
   "metadata": {},
   "source": [
    "> 기본적으로 선형 관계를 갖지만 noise로 인해 약간 퍼져있음."
   ]
  },
  {
   "cell_type": "markdown",
   "id": "902a93c2",
   "metadata": {},
   "source": [
    "2. 정규방정식을 이용하여 $\\hat\\theta$ 구하기\n",
    "\n",
    "- 일반적으로 n개의 특성을 갖는 임의의 크기의 데이터셋 X가 주어졌을 때, $(\\mathbf{X}^T \\mathbf{X})^{-1}$의 역행렬이 존재하고, 일정 시간 내에 계산이 가능할 때 <br> -> 최적의 파라미터 조합 $\\boldsymbol{\\hat\\theta}$을 정규방정식으로 구할 수 있다."
   ]
  },
  {
   "cell_type": "markdown",
   "id": "87d928df",
   "metadata": {},
   "source": [
    "$$\\hat{\\boldsymbol{\\theta}} = (\\mathbf{X}^T \\mathbf{X})^{-1} \\mathbf{X}^T \\mathbf{y}$$"
   ]
  },
  {
   "cell_type": "code",
   "execution_count": 6,
   "id": "04e2de1c",
   "metadata": {},
   "outputs": [],
   "source": [
    "X_b = np.c_[np.ones((100,1)), X]   #모든 샘플에 x0=1을 추가 ⬅️ 절편인 θ0을 고려하기 위해"
   ]
  },
  {
   "cell_type": "markdown",
   "id": "7c020a75",
   "metadata": {},
   "source": [
    "> `np.ones((100,1))` : 모든 요소가 1로 채워진 100개의 행과 1개의 열로 이루어진 배열\n",
    "\n",
    "> `X_b`: 훈련 세트에 **편향(0번 열(x0)에 1)이 추가**된 배열 (x0=1 추가)\n",
    "\n",
    "\n",
    "(사이킷런을 사용할 때는 모델이 알아서 추가해줌)"
   ]
  },
  {
   "cell_type": "code",
   "execution_count": 7,
   "id": "501cc567",
   "metadata": {
    "scrolled": true
   },
   "outputs": [
    {
     "data": {
      "text/plain": [
       "array([[1.        , 0.74908024],\n",
       "       [1.        , 1.90142861],\n",
       "       [1.        , 1.46398788],\n",
       "       [1.        , 1.19731697],\n",
       "       [1.        , 0.31203728]])"
      ]
     },
     "execution_count": 7,
     "metadata": {},
     "output_type": "execute_result"
    }
   ],
   "source": [
    "X_b[:5]"
   ]
  },
  {
   "cell_type": "code",
   "execution_count": 8,
   "id": "55960293",
   "metadata": {},
   "outputs": [
    {
     "data": {
      "text/plain": [
       "array([[1.        , 0.7948113 ],\n",
       "       [1.        , 0.50263709],\n",
       "       [1.        , 0.57690388],\n",
       "       [1.        , 0.49251769]])"
      ]
     },
     "execution_count": 8,
     "metadata": {},
     "output_type": "execute_result"
    }
   ],
   "source": [
    "# 위의 코드와 관련된 간단 예시\n",
    "\n",
    "a = np.ones((4,1))\n",
    "b = np.random.rand(4,1)\n",
    "\n",
    "ab_combined = np.c_[a,b]\n",
    "ab_combined"
   ]
  },
  {
   "cell_type": "code",
   "execution_count": null,
   "id": "e4bea9c3",
   "metadata": {},
   "outputs": [],
   "source": []
  },
  {
   "cell_type": "markdown",
   "id": "4d6f9bf8",
   "metadata": {},
   "source": [
    "- Numpy 선형대수 모듈인 `np.linalg` 사용하여 $\\boldsymbol{\\hat\\theta} = [\\theta_0, \\theta_1]$를 구해보자.\n",
    "\n",
    "    - `inv()` 함수: 역행렬 계산\n",
    "    - `dot()` 함수: 행렬 곱셈"
   ]
  },
  {
   "cell_type": "markdown",
   "id": "9ade97aa",
   "metadata": {},
   "source": [
    "$$\\hat{\\boldsymbol{\\theta}} = (\\mathbf{X}^T \\mathbf{X})^{-1} \\mathbf{X}^T \\mathbf{y}$$"
   ]
  },
  {
   "cell_type": "code",
   "execution_count": 9,
   "id": "87f1bea3",
   "metadata": {},
   "outputs": [],
   "source": [
    "theta_best = np.linalg.inv(X_b.T.dot(X_b)).dot(X_b.T).dot(y)"
   ]
  },
  {
   "cell_type": "markdown",
   "id": "1e515ed9",
   "metadata": {},
   "source": [
    "> - theta_best: $\\boldsymbol{\\hat\\theta}$ -> $\\boldsymbol{\\hat\\theta} = [\\theta_0, \\theta_1]$ 형태\n",
    "> - 코드 설명:\n",
    "    - $(\\mathbf{X}^T \\mathbf{X})^{-1}$ : `inv(X_b.T.dot(X_b))`\n",
    "    - $\\mathbf{X}^T \\mathbf{y}$ : `dot(X_b.T).dot(y)`\n",
    "    \n",
    "> 사용한 함수: $y=4+3x1+ 가우시안잡음 $"
   ]
  },
  {
   "cell_type": "code",
   "execution_count": 10,
   "id": "ed6c9198",
   "metadata": {},
   "outputs": [
    {
     "data": {
      "text/plain": [
       "array([[4.21509616],\n",
       "       [2.77011339]])"
      ]
     },
     "execution_count": 10,
     "metadata": {},
     "output_type": "execute_result"
    }
   ],
   "source": [
    "#정규방정식으로 계산된 ^θ=[θ0, θ1] \n",
    "theta_best"
   ]
  },
  {
   "cell_type": "markdown",
   "id": "1831213e",
   "metadata": {},
   "source": [
    "> 기대한 값: $\\theta_0$=4, $\\theta_1$=3 \n",
    "<br>➡️ but, 잡음 때문에 정확히 재현x"
   ]
  },
  {
   "cell_type": "markdown",
   "id": "7138e744",
   "metadata": {},
   "source": [
    "3. 계산된 $\\boldsymbol{\\hat\\theta}$을 사용해 예측해보자.\n",
    "- `x1=0` & `x2=2` 일때의 예측값($\\hat{y}$) 구하기.\n",
    "    - -> 이 때는 단순한 **행렬 곱셈에 불과** : \n",
    "    $\\hat{y} =  \\mathbf{X}\\, \\boldsymbol{\\hat{\\theta}}$"
   ]
  },
  {
   "cell_type": "code",
   "execution_count": 11,
   "id": "d81da2f5",
   "metadata": {},
   "outputs": [
    {
     "data": {
      "text/plain": [
       "array([[1., 0.],\n",
       "       [1., 2.]])"
      ]
     },
     "execution_count": 11,
     "metadata": {},
     "output_type": "execute_result"
    }
   ],
   "source": [
    "X_new = np.array([[0],[2]])\n",
    "X_new_b = np.c_[np.ones((2,1)), X_new] #여기서도 모든 샘플에 x0=1 추가해야 함\n",
    "X_new_b"
   ]
  },
  {
   "cell_type": "markdown",
   "id": "b702a288",
   "metadata": {},
   "source": [
    "- 예측값을 구해보자."
   ]
  },
  {
   "cell_type": "code",
   "execution_count": 12,
   "id": "7c2bf8dd",
   "metadata": {
    "scrolled": false
   },
   "outputs": [
    {
     "data": {
      "text/plain": [
       "array([[4.21509616],\n",
       "       [9.75532293]])"
      ]
     },
     "execution_count": 12,
     "metadata": {},
     "output_type": "execute_result"
    }
   ],
   "source": [
    "#예측값\n",
    "y_predict = X_new_b.dot(theta_best)\n",
    "y_predict"
   ]
  },
  {
   "cell_type": "markdown",
   "id": "9aa95155",
   "metadata": {},
   "source": [
    "- 그래프로 나타내보자 ➡️ $\\theta_0$:절편, $\\theta_1$:기울기로 설정"
   ]
  },
  {
   "cell_type": "code",
   "execution_count": 13,
   "id": "7b9c25d4",
   "metadata": {},
   "outputs": [
    {
     "name": "stdout",
     "output_type": "stream",
     "text": [
      "Saving figure linear_model_predictions_plot\n"
     ]
    },
    {
     "data": {
      "image/png": "[encoded data removed]",
      "text/plain": [
       "<Figure size 432x288 with 1 Axes>"
      ]
     },
     "metadata": {
      "needs_background": "light"
     },
     "output_type": "display_data"
    }
   ],
   "source": [
    "#그래프 (선형 회귀 모델의 예측)\n",
    "\n",
    "plt.plot(X_new, y_predict, \"r-\", linewidth=2, label=\"Predictions\")  #예측값(θhat)을 이용한 직선\n",
    "\n",
    "plt.plot(X,y, \"b.\")  #파란 점의 형태로 예측값 구하기 전 그래프의 산점도  \n",
    "plt.xlabel(\"$x_1$\", fontsize=18)\n",
    "plt.ylabel(\"$y$\", rotation=0, fontsize=18)\n",
    "\n",
    "plt.legend(loc=\"upper left\", fontsize=14)  #범례 지정\n",
    "plt.axis([0, 2, 0, 15])                    #x축 구간:0~2, y축 구간:0~15\n",
    "\n",
    "save_fig(\"linear_model_predictions_plot\")\n",
    "plt.show()"
   ]
  },
  {
   "cell_type": "markdown",
   "id": "e1686af3",
   "metadata": {},
   "source": [
    "#### 사이킷런의 `[LinearRegression] 모델`을 이용하여 선형 회귀 수행\n",
    "\n",
    "- LinearRegression 클래스의 계산 방식 : **특잇값 분해(SVD)**를 이용 -> 무어-펜로즈의 **유사 역행렬$\\mathbf{X}^+$** 활용하여 파라미터 $\\hat{\\theta}$ 구하기\n",
    "     - 함수: $\\hat{\\boldsymbol{\\theta}} = \\mathbf{X}^+ \\mathbf{y}$ \n",
    "     \n",
    "     <br>\n",
    "     <br>\n",
    "     \n",
    "> - 특잇값 분해(SVD): 행렬을 3개의 행렬의 곱(U, $\\Sigma$, $\\mathbf{V}^T$ )으로 분해\n",
    "\n",
    "> - 유사 역행렬($\\mathbf{X}^+$)\n",
    "    - 역행렬이 존재하지 않거나 계산이 어려울 때 사용.\n",
    "    - 유사 역행렬을 구할 때는 일반적으로 SVD 방식을 이용 : 원래 행렬 분해 -> 알고리즘이 대각행렬($\\Sigma$)을 구함 -> 낮은 임계값보다 작은 수를 모두 0으로 바꿈 -> 0이 아닌 모든 값을 역수로 치환 -> 이 행렬을 전치\n",
    "    - 정규방정식보다 효율적"
   ]
  },
  {
   "cell_type": "code",
   "execution_count": 14,
   "id": "d0f0d08a",
   "metadata": {},
   "outputs": [
    {
     "data": {
      "text/html": [
       "<style>#sk-container-id-1 {color: black;}#sk-container-id-1 pre{padding: 0;}#sk-container-id-1 div.sk-toggleable {background-color: white;}#sk-container-id-1 label.sk-toggleable__label {cursor: pointer;display: block;width: 100%;margin-bottom: 0;padding: 0.3em;box-sizing: border-box;text-align: center;}#sk-container-id-1 label.sk-toggleable__label-arrow:before {content: \"▸\";float: left;margin-right: 0.25em;color: #696969;}#sk-container-id-1 label.sk-toggleable__label-arrow:hover:before {color: black;}#sk-container-id-1 div.sk-estimator:hover label.sk-toggleable__label-arrow:before {color: black;}#sk-container-id-1 div.sk-toggleable__content {max-height: 0;max-width: 0;overflow: hidden;text-align: left;background-color: #f0f8ff;}#sk-container-id-1 div.sk-toggleable__content pre {margin: 0.2em;color: black;border-radius: 0.25em;background-color: #f0f8ff;}#sk-container-id-1 input.sk-toggleable__control:checked~div.sk-toggleable__content {max-height: 200px;max-width: 100%;overflow: auto;}#sk-container-id-1 input.sk-toggleable__control:checked~label.sk-toggleable__label-arrow:before {content: \"▾\";}#sk-container-id-1 div.sk-estimator input.sk-toggleable__control:checked~label.sk-toggleable__label {background-color: #d4ebff;}#sk-container-id-1 div.sk-label input.sk-toggleable__control:checked~label.sk-toggleable__label {background-color: #d4ebff;}#sk-container-id-1 input.sk-hidden--visually {border: 0;clip: rect(1px 1px 1px 1px);clip: rect(1px, 1px, 1px, 1px);height: 1px;margin: -1px;overflow: hidden;padding: 0;position: absolute;width: 1px;}#sk-container-id-1 div.sk-estimator {font-family: monospace;background-color: #f0f8ff;border: 1px dotted black;border-radius: 0.25em;box-sizing: border-box;margin-bottom: 0.5em;}#sk-container-id-1 div.sk-estimator:hover {background-color: #d4ebff;}#sk-container-id-1 div.sk-parallel-item::after {content: \"\";width: 100%;border-bottom: 1px solid gray;flex-grow: 1;}#sk-container-id-1 div.sk-label:hover label.sk-toggleable__label {background-color: #d4ebff;}#sk-container-id-1 div.sk-serial::before {content: \"\";position: absolute;border-left: 1px solid gray;box-sizing: border-box;top: 0;bottom: 0;left: 50%;z-index: 0;}#sk-container-id-1 div.sk-serial {display: flex;flex-direction: column;align-items: center;background-color: white;padding-right: 0.2em;padding-left: 0.2em;position: relative;}#sk-container-id-1 div.sk-item {position: relative;z-index: 1;}#sk-container-id-1 div.sk-parallel {display: flex;align-items: stretch;justify-content: center;background-color: white;position: relative;}#sk-container-id-1 div.sk-item::before, #sk-container-id-1 div.sk-parallel-item::before {content: \"\";position: absolute;border-left: 1px solid gray;box-sizing: border-box;top: 0;bottom: 0;left: 50%;z-index: -1;}#sk-container-id-1 div.sk-parallel-item {display: flex;flex-direction: column;z-index: 1;position: relative;background-color: white;}#sk-container-id-1 div.sk-parallel-item:first-child::after {align-self: flex-end;width: 50%;}#sk-container-id-1 div.sk-parallel-item:last-child::after {align-self: flex-start;width: 50%;}#sk-container-id-1 div.sk-parallel-item:only-child::after {width: 0;}#sk-container-id-1 div.sk-dashed-wrapped {border: 1px dashed gray;margin: 0 0.4em 0.5em 0.4em;box-sizing: border-box;padding-bottom: 0.4em;background-color: white;}#sk-container-id-1 div.sk-label label {font-family: monospace;font-weight: bold;display: inline-block;line-height: 1.2em;}#sk-container-id-1 div.sk-label-container {text-align: center;}#sk-container-id-1 div.sk-container {/* jupyter's `normalize.less` sets `[hidden] { display: none; }` but bootstrap.min.css set `[hidden] { display: none !important; }` so we also need the `!important` here to be able to override the default hidden behavior on the sphinx rendered scikit-learn.org. See: https://github.com/scikit-learn/scikit-learn/issues/21755 */display: inline-block !important;position: relative;}#sk-container-id-1 div.sk-text-repr-fallback {display: none;}</style><div id=\"sk-container-id-1\" class=\"sk-top-container\"><div class=\"sk-text-repr-fallback\"><pre>LinearRegression()</pre><b>In a Jupyter environment, please rerun this cell to show the HTML representation or trust the notebook. <br />On GitHub, the HTML representation is unable to render, please try loading this page with nbviewer.org.</b></div><div class=\"sk-container\" hidden><div class=\"sk-item\"><div class=\"sk-estimator sk-toggleable\"><input class=\"sk-toggleable__control sk-hidden--visually\" id=\"sk-estimator-id-1\" type=\"checkbox\" checked><label for=\"sk-estimator-id-1\" class=\"sk-toggleable__label sk-toggleable__label-arrow\">LinearRegression</label><div class=\"sk-toggleable__content\"><pre>LinearRegression()</pre></div></div></div></div></div>"
      ],
      "text/plain": [
       "LinearRegression()"
      ]
     },
     "execution_count": 14,
     "metadata": {},
     "output_type": "execute_result"
    }
   ],
   "source": [
    "from sklearn.linear_model import LinearRegression\n",
    "\n",
    "lin_reg = LinearRegression() #객체 \n",
    "lin_reg.fit(X,y)             #훈련"
   ]
  },
  {
   "cell_type": "code",
   "execution_count": 15,
   "id": "dbb47f2c",
   "metadata": {
    "scrolled": true
   },
   "outputs": [
    {
     "data": {
      "text/plain": [
       "(array([4.21509616]), array([[2.77011339]]))"
      ]
     },
     "execution_count": 15,
     "metadata": {},
     "output_type": "execute_result"
    }
   ],
   "source": [
    "#절편(θ0), 기울기(θ1)\n",
    "lin_reg.intercept_, lin_reg.coef_"
   ]
  },
  {
   "cell_type": "code",
   "execution_count": 16,
   "id": "bdac7858",
   "metadata": {},
   "outputs": [
    {
     "data": {
      "text/plain": [
       "array([[4.21509616],\n",
       "       [9.75532293]])"
      ]
     },
     "execution_count": 16,
     "metadata": {},
     "output_type": "execute_result"
    }
   ],
   "source": [
    "lin_reg.predict(X_new) #X_new: x1=0 & x2=2 "
   ]
  },
  {
   "cell_type": "markdown",
   "id": "a9705fc3",
   "metadata": {},
   "source": [
    "> x1=0 & x2=2 일 때 수동으로 계산하여 구했던 예측값(3번에서)과 동일한 $\\theta_0$, $\\theta_1$ 예측값이 나왔다."
   ]
  },
  {
   "cell_type": "markdown",
   "id": "fae2c3ac",
   "metadata": {},
   "source": [
    "#### 🌎  `fit()`함수 대신 사용할 수 있는 2가지 방법\n",
    "1. `scipy.linalg.lstsq()` 함수(least squares 최소제곱으로부터 파생)를 **직접 호출** \n",
    "-  $\\hat{\\boldsymbol{\\theta}} = \\mathbf{X}^+ \\mathbf{y}$ 계산\n",
    "    - (위에서 언급했던 것처럼 LinearRegression 모델이 위의 함수를 기반으로 하기 때문에)\n",
    "- 이 과정에서 유사 역행렬을 구함"
   ]
  },
  {
   "cell_type": "code",
   "execution_count": 17,
   "id": "f28d8f02",
   "metadata": {},
   "outputs": [
    {
     "data": {
      "text/plain": [
       "array([[4.21509616],\n",
       "       [2.77011339]])"
      ]
     },
     "execution_count": 17,
     "metadata": {},
     "output_type": "execute_result"
    }
   ],
   "source": [
    "theta_best_svd, residuals, rank, s = np.linalg.lstsq(X_b, y, rcond=1e-6)\n",
    "theta_best_svd"
   ]
  },
  {
   "cell_type": "markdown",
   "id": "58f547b6",
   "metadata": {},
   "source": [
    "2. Numpy의 `np.linalg.pinv()`함수로 **유사 역행렬**을 구하여 계산하기\n",
    "    - $\\hat{\\boldsymbol{\\theta}} = \\mathbf{X}^+ \\mathbf{y}$"
   ]
  },
  {
   "cell_type": "code",
   "execution_count": 18,
   "id": "c5ae9e7e",
   "metadata": {
    "scrolled": true
   },
   "outputs": [
    {
     "data": {
      "text/plain": [
       "array([[4.21509616],\n",
       "       [2.77011339]])"
      ]
     },
     "execution_count": 18,
     "metadata": {},
     "output_type": "execute_result"
    }
   ],
   "source": [
    "np.linalg.pinv(X_b).dot(y)"
   ]
  }
 ],
 "metadata": {
  "kernelspec": {
   "display_name": "Python 3 (ipykernel)",
   "language": "python",
   "name": "python3"
  },
  "language_info": {
   "codemirror_mode": {
    "name": "ipython",
    "version": 3
   },
   "file_extension": ".py",
   "mimetype": "text/x-python",
   "name": "python",
   "nbconvert_exporter": "python",
   "pygments_lexer": "ipython3",
   "version": "3.10.4"
  }
 },
 "nbformat": 4,
 "nbformat_minor": 5
}
