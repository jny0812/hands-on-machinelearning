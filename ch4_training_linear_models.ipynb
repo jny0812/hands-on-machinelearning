{
 "cells": [
  {
   "cell_type": "markdown",
   "id": "9ab7a2c9",
   "metadata": {},
   "source": [
    "# 4장. 모델 훈련 (Training Linear Models)"
   ]
  },
  {
   "cell_type": "markdown",
   "id": "85f98a20",
   "metadata": {},
   "source": [
    "참고 사이트\n",
    "- https://codingalzi.github.io/handson-ml2/notebooks/handson-ml2-04.html\n"
   ]
  },
  {
   "cell_type": "markdown",
   "id": "905b9f06",
   "metadata": {},
   "source": [
    "## Setup"
   ]
  },
  {
   "cell_type": "code",
   "execution_count": 1,
   "id": "9563b9b0",
   "metadata": {},
   "outputs": [],
   "source": [
    "# Python ≥3.5 is required\n",
    "import sys\n",
    "assert sys.version_info >= (3, 5)\n",
    "\n",
    "# Scikit-Learn ≥0.20 is required\n",
    "import sklearn\n",
    "assert sklearn.__version__ >= \"0.20\"\n",
    "\n",
    "# Common imports\n",
    "import numpy as np\n",
    "import os\n",
    "\n",
    "# to make this notebook's output stable across runs\n",
    "np.random.seed(42)\n",
    "\n",
    "# To plot pretty figures\n",
    "%matplotlib inline\n",
    "import matplotlib as mpl\n",
    "import matplotlib.pyplot as plt\n",
    "mpl.rc('axes', labelsize=14)\n",
    "mpl.rc('xtick', labelsize=12)\n",
    "mpl.rc('ytick', labelsize=12)\n",
    "\n",
    "# Where to save the figures\n",
    "PROJECT_ROOT_DIR = \".\"\n",
    "CHAPTER_ID = \"training_linear_models\"\n",
    "IMAGES_PATH = os.path.join(PROJECT_ROOT_DIR, \"images\", CHAPTER_ID)\n",
    "os.makedirs(IMAGES_PATH, exist_ok=True)\n",
    "\n",
    "def save_fig(fig_id, tight_layout=True, fig_extension=\"png\", resolution=300):\n",
    "    path = os.path.join(IMAGES_PATH, fig_id + \".\" + fig_extension)\n",
    "    print(\"Saving figure\", fig_id)\n",
    "    if tight_layout:\n",
    "        plt.tight_layout()\n",
    "    plt.savefig(path, format=fig_extension, dpi=resolution)"
   ]
  },
  {
   "cell_type": "markdown",
   "id": "f618da61",
   "metadata": {},
   "source": [
    "## 4.1 Linear Regression (선형 회귀)\n",
    "\n",
    "#### 1) 선형 모델의 예측 : 입력 특성의 가중치의 합 + 편향(bias) 상수 -> 예측값을 만듦.\n",
    "- 예측함수 만들기\n",
    "\n",
    "#### 2) 모델 훈련 (= '모델 파라미터'를 훈련 세트에 가장 잘 맞도록 설정)\n",
    "- 1. 모델을 측정\n",
    "    - 회귀에 가장 많이 사용되는 성능 지표: RMSE\n",
    "    - but, MSE를 이용해 더 간단히 측정 -> MSE 비용함수\n",
    "    <br>\n",
    "    <br>\n",
    "- 2. MSE(θ) 함수를 최소화하는 θ값 찾기\n",
    "    - MSE 비용함수를 최소화할 수 있는 θ값을 찾기 위한 방식 2가지.\n",
    "         1. 정규방정식 (The Normal Equation)\n",
    "         2. 경사하강법 (Gradient Descent)"
   ]
  },
  {
   "cell_type": "markdown",
   "id": "ecf1b0ac",
   "metadata": {},
   "source": [
    "### 4.1.1) The Normal Equation (정규방정식)\n",
    "- θ값을 바로 얻을 수 있고 & 직접 계산하는 경우 활용하는 수학 공식"
   ]
  },
  {
   "cell_type": "markdown",
   "id": "707f0acf",
   "metadata": {},
   "source": [
    "1. 선형처럼 보이는 데이터 생성"
   ]
  },
  {
   "cell_type": "code",
   "execution_count": 2,
   "id": "55f06e5a",
   "metadata": {},
   "outputs": [],
   "source": [
    "X = 2 * np.random.rand(100,1)             #X:특성 x1을 갖는 100개의 데이터\n",
    "y = 4 + 3 * X + np.random.randn(100,1)    #y:100개의 레이블(선형함수에 noise(잡음)추가)"
   ]
  },
  {
   "cell_type": "markdown",
   "id": "ff21d07f",
   "metadata": {},
   "source": [
    "> - `np.random.rand(100,1)` : 0~1 사이의 **균일 분포(uniform distribution)**에서 무작위 추출  --> 100개의 숫자 & 1개의 열을 가진 배열\n",
    "> - `np.random.randn(100,1)` : 평균이 0, 표준편차가 1인 **표준 정규 분포(standard normal distribution)**에서 무작위 추출(부동소수점) --> 100개의 행 & 1개의 열을 가진 배열 추출"
   ]
  },
  {
   "cell_type": "code",
   "execution_count": 3,
   "id": "70cc903d",
   "metadata": {},
   "outputs": [],
   "source": [
    "linreg_data = np.c_[X,y]"
   ]
  },
  {
   "attachments": {
    "image.png": {
     "image/png": "[encoded data removed]"
    }
   },
   "cell_type": "markdown",
   "id": "af27ea5c",
   "metadata": {},
   "source": [
    "> - `np.c_[X,y]` : 배열을 **수평**방향으로 결합 ex) X=[1,2,3],y=[4,5,6] 이라면 ➡️ <img src=\"attachment:image.png\" width=\"80\" height=\"150\">\n",
    "    - 각각 X에 따른 y의 값을 확인할 수 있음.\n",
    "\n",
    "> ✔️참고) 배열을 **수직**방향으로 결합 : `np.r_[X,y]` - [X, y]이런 형태 ex) [1,2,3,4,5,6]"
   ]
  },
  {
   "cell_type": "code",
   "execution_count": 4,
   "id": "229567fb",
   "metadata": {},
   "outputs": [
    {
     "data": {
      "text/plain": [
       "array([[0.74908024, 6.33428778],\n",
       "       [1.90142861, 9.40527849],\n",
       "       [1.46398788, 8.48372443],\n",
       "       [1.19731697, 5.60438199],\n",
       "       [0.31203728, 4.71643995]])"
      ]
     },
     "execution_count": 4,
     "metadata": {},
     "output_type": "execute_result"
    }
   ],
   "source": [
    "linreg_data[:5]"
   ]
  },
  {
   "cell_type": "code",
   "execution_count": 5,
   "id": "0362d56d",
   "metadata": {},
   "outputs": [
    {
     "name": "stdout",
     "output_type": "stream",
     "text": [
      "Saving figure generated_data_plot\n"
     ]
    },
    {
     "data": {
      "image/png": "[encoded data removed]",
      "text/plain": [
       "<Figure size 432x288 with 1 Axes>"
      ]
     },
     "metadata": {
      "needs_background": "light"
     },
     "output_type": "display_data"
    }
   ],
   "source": [
    "#특성 x1과 레이블 y의 관계를 그려보자. (무작위로 생성한 선형 데이터셋)\n",
    "\n",
    "plt.plot(X, y, \"b.\")                         #\"b.\":파란색 & 점 (산점도 표시)\n",
    "plt.xlabel(\"$x_1$\", fontsize=18)             #x축 레이블 \n",
    "plt.ylabel(\"$y$\", rotation=0, fontsize=18)   #x축 레이블\n",
    "plt.axis([0, 2, 0, 15])                      #x축, y축 구간 지정\n",
    "\n",
    "save_fig(\"generated_data_plot\")\n",
    "plt.show()"
   ]
  },
  {
   "cell_type": "markdown",
   "id": "3b35cf5b",
   "metadata": {},
   "source": [
    "> 기본적으로 선형 관계를 갖지만 noise로 인해 약간 퍼져있음."
   ]
  },
  {
   "cell_type": "markdown",
   "id": "902a93c2",
   "metadata": {},
   "source": [
    "2. 정규방정식을 이용하여 $\\hat\\theta$ 구하기\n",
    "\n",
    "- 일반적으로 n개의 특성을 갖는 임의의 크기의 데이터셋 X가 주어졌을 때, $(\\mathbf{X}^T \\mathbf{X})^{-1}$의 역행렬이 존재하고, 일정 시간 내에 계산이 가능할 때 <br> -> 최적의 파라미터 조합 $\\boldsymbol{\\hat\\theta}$을 정규방정식으로 구할 수 있다."
   ]
  },
  {
   "cell_type": "markdown",
   "id": "87d928df",
   "metadata": {},
   "source": [
    "$$\\hat{\\boldsymbol{\\theta}} = (\\mathbf{X}^T \\mathbf{X})^{-1} \\mathbf{X}^T \\mathbf{y}$$"
   ]
  },
  {
   "cell_type": "code",
   "execution_count": 6,
   "id": "04e2de1c",
   "metadata": {},
   "outputs": [],
   "source": [
    "X_b = np.c_[np.ones((100,1)), X]   #모든 샘플에 x0=1을 추가 ⬅️ 절편인 θ0을 고려하기 위해"
   ]
  },
  {
   "cell_type": "markdown",
   "id": "7c020a75",
   "metadata": {},
   "source": [
    "> `np.ones((100,1))` : 모든 요소가 1로 채워진 100개의 행과 1개의 열로 이루어진 배열\n",
    "\n",
    "> `X_b`: 훈련 세트에 **편향(0번 열(x0)에 1)이 추가**된 배열 (x0=1 추가)\n",
    "\n",
    "\n",
    "(사이킷런을 사용할 때는 모델이 알아서 추가해줌)"
   ]
  },
  {
   "cell_type": "code",
   "execution_count": 7,
   "id": "501cc567",
   "metadata": {
    "scrolled": true
   },
   "outputs": [
    {
     "data": {
      "text/plain": [
       "array([[1.        , 0.74908024],\n",
       "       [1.        , 1.90142861],\n",
       "       [1.        , 1.46398788],\n",
       "       [1.        , 1.19731697],\n",
       "       [1.        , 0.31203728]])"
      ]
     },
     "execution_count": 7,
     "metadata": {},
     "output_type": "execute_result"
    }
   ],
   "source": [
    "X_b[:5]"
   ]
  },
  {
   "cell_type": "code",
   "execution_count": 8,
   "id": "55960293",
   "metadata": {},
   "outputs": [
    {
     "data": {
      "text/plain": [
       "array([[1.        , 0.7948113 ],\n",
       "       [1.        , 0.50263709],\n",
       "       [1.        , 0.57690388],\n",
       "       [1.        , 0.49251769]])"
      ]
     },
     "execution_count": 8,
     "metadata": {},
     "output_type": "execute_result"
    }
   ],
   "source": [
    "# 위의 코드와 관련된 간단 예시\n",
    "\n",
    "a = np.ones((4,1))\n",
    "b = np.random.rand(4,1)\n",
    "\n",
    "ab_combined = np.c_[a,b]\n",
    "ab_combined"
   ]
  },
  {
   "cell_type": "code",
   "execution_count": null,
   "id": "e4bea9c3",
   "metadata": {},
   "outputs": [],
   "source": []
  },
  {
   "cell_type": "markdown",
   "id": "4d6f9bf8",
   "metadata": {},
   "source": [
    "- Numpy 선형대수 모듈인 `np.linalg` 사용하여 $\\boldsymbol{\\hat\\theta} = [\\theta_0, \\theta_1]$를 구해보자.\n",
    "\n",
    "    - `inv()` 함수: 역행렬 계산\n",
    "    - `dot()` 함수: 행렬 곱셈"
   ]
  },
  {
   "cell_type": "markdown",
   "id": "9ade97aa",
   "metadata": {},
   "source": [
    "$$\\hat{\\boldsymbol{\\theta}} = (\\mathbf{X}^T \\mathbf{X})^{-1} \\mathbf{X}^T \\mathbf{y}$$"
   ]
  },
  {
   "cell_type": "code",
   "execution_count": 9,
   "id": "87f1bea3",
   "metadata": {},
   "outputs": [],
   "source": [
    "theta_best = np.linalg.inv(X_b.T.dot(X_b)).dot(X_b.T).dot(y)"
   ]
  },
  {
   "cell_type": "markdown",
   "id": "1e515ed9",
   "metadata": {},
   "source": [
    "> - theta_best: $\\boldsymbol{\\hat\\theta}$ -> $\\boldsymbol{\\hat\\theta} = [\\theta_0, \\theta_1]$ 형태\n",
    "> - 코드 설명:\n",
    "    - $(\\mathbf{X}^T \\mathbf{X})^{-1}$ : `inv(X_b.T.dot(X_b))`\n",
    "    - $\\mathbf{X}^T \\mathbf{y}$ : `dot(X_b.T).dot(y)`\n",
    "    \n",
    "> 사용한 함수: $y=4+3x1+ 가우시안잡음 $"
   ]
  },
  {
   "cell_type": "code",
   "execution_count": 10,
   "id": "ed6c9198",
   "metadata": {},
   "outputs": [
    {
     "data": {
      "text/plain": [
       "array([[4.21509616],\n",
       "       [2.77011339]])"
      ]
     },
     "execution_count": 10,
     "metadata": {},
     "output_type": "execute_result"
    }
   ],
   "source": [
    "#정규방정식으로 계산된 ^θ=[θ0, θ1] \n",
    "theta_best"
   ]
  },
  {
   "cell_type": "markdown",
   "id": "1831213e",
   "metadata": {},
   "source": [
    "> 기대한 값: $\\theta_0$=4, $\\theta_1$=3 \n",
    "<br>➡️ but, 잡음 때문에 정확히 재현x"
   ]
  },
  {
   "cell_type": "markdown",
   "id": "7138e744",
   "metadata": {},
   "source": [
    "3. 계산된 $\\boldsymbol{\\hat\\theta}$을 사용해 예측해보자.\n",
    "- `x1=0` & `x2=2` 일때의 예측값($\\hat{y}$) 구하기.\n",
    "    - -> 이 때는 단순한 **행렬 곱셈에 불과** : \n",
    "    $\\hat{y} =  \\mathbf{X}\\, \\boldsymbol{\\hat{\\theta}}$"
   ]
  },
  {
   "cell_type": "code",
   "execution_count": 11,
   "id": "d81da2f5",
   "metadata": {},
   "outputs": [
    {
     "data": {
      "text/plain": [
       "array([[1., 0.],\n",
       "       [1., 2.]])"
      ]
     },
     "execution_count": 11,
     "metadata": {},
     "output_type": "execute_result"
    }
   ],
   "source": [
    "X_new = np.array([[0],[2]])\n",
    "X_new_b = np.c_[np.ones((2,1)), X_new] #여기서도 모든 샘플에 x0=1 추가해야 함\n",
    "X_new_b"
   ]
  },
  {
   "cell_type": "markdown",
   "id": "b702a288",
   "metadata": {},
   "source": [
    "- 예측값을 구해보자."
   ]
  },
  {
   "cell_type": "code",
   "execution_count": 12,
   "id": "7c2bf8dd",
   "metadata": {
    "scrolled": false
   },
   "outputs": [
    {
     "data": {
      "text/plain": [
       "array([[4.21509616],\n",
       "       [9.75532293]])"
      ]
     },
     "execution_count": 12,
     "metadata": {},
     "output_type": "execute_result"
    }
   ],
   "source": [
    "#예측값\n",
    "y_predict = X_new_b.dot(theta_best)\n",
    "y_predict"
   ]
  },
  {
   "cell_type": "markdown",
   "id": "9aa95155",
   "metadata": {},
   "source": [
    "- 그래프로 나타내보자 ➡️ $\\theta_0$:절편, $\\theta_1$:기울기로 설정"
   ]
  },
  {
   "cell_type": "code",
   "execution_count": 13,
   "id": "7b9c25d4",
   "metadata": {},
   "outputs": [
    {
     "name": "stdout",
     "output_type": "stream",
     "text": [
      "Saving figure linear_model_predictions_plot\n"
     ]
    },
    {
     "data": {
      "image/png": "[encoded data removed]",
      "text/plain": [
       "<Figure size 432x288 with 1 Axes>"
      ]
     },
     "metadata": {
      "needs_background": "light"
     },
     "output_type": "display_data"
    }
   ],
   "source": [
    "#그래프 (선형 회귀 모델의 예측)\n",
    "\n",
    "plt.plot(X_new, y_predict, \"r-\", linewidth=2, label=\"Predictions\")  #예측값(θhat)을 이용한 직선\n",
    "\n",
    "plt.plot(X,y, \"b.\")  #파란 점의 형태로 예측값 구하기 전 그래프의 산점도  \n",
    "plt.xlabel(\"$x_1$\", fontsize=18)\n",
    "plt.ylabel(\"$y$\", rotation=0, fontsize=18)\n",
    "\n",
    "plt.legend(loc=\"upper left\", fontsize=14)  #범례 지정\n",
    "plt.axis([0, 2, 0, 15])                    #x축 구간:0~2, y축 구간:0~15\n",
    "\n",
    "save_fig(\"linear_model_predictions_plot\")\n",
    "plt.show()"
   ]
  },
  {
   "cell_type": "markdown",
   "id": "e1686af3",
   "metadata": {},
   "source": [
    "#### 사이킷런의 `[LinearRegression] 모델`을 이용하여 선형 회귀 수행\n",
    "\n",
    "- LinearRegression 클래스의 계산 방식 : **특잇값 분해(SVD)**를 이용 -> 무어-펜로즈의 **유사 역행렬$\\mathbf{X}^+$** 활용하여 파라미터 $\\hat{\\theta}$ 구하기\n",
    "     - 함수: $\\hat{\\boldsymbol{\\theta}} = \\mathbf{X}^+ \\mathbf{y}$ \n",
    "     \n",
    "     <br>\n",
    "     <br>\n",
    "     \n",
    "> - 특잇값 분해(SVD): 행렬을 3개의 행렬의 곱(U, $\\Sigma$, $\\mathbf{V}^T$ )으로 분해\n",
    "\n",
    "> - 유사 역행렬($\\mathbf{X}^+$)\n",
    "    - 역행렬이 존재하지 않거나 계산이 어려울 때 사용.\n",
    "    - 유사 역행렬을 구할 때는 일반적으로 SVD 방식을 이용 : 원래 행렬 분해 -> 알고리즘이 대각행렬($\\Sigma$)을 구함 -> 낮은 임계값보다 작은 수를 모두 0으로 바꿈 -> 0이 아닌 모든 값을 역수로 치환 -> 이 행렬을 전치\n",
    "    - 정규방정식보다 효율적"
   ]
  },
  {
   "cell_type": "code",
   "execution_count": 14,
   "id": "d0f0d08a",
   "metadata": {},
   "outputs": [
    {
     "data": {
      "text/html": [
       "<style>#sk-container-id-1 {color: black;}#sk-container-id-1 pre{padding: 0;}#sk-container-id-1 div.sk-toggleable {background-color: white;}#sk-container-id-1 label.sk-toggleable__label {cursor: pointer;display: block;width: 100%;margin-bottom: 0;padding: 0.3em;box-sizing: border-box;text-align: center;}#sk-container-id-1 label.sk-toggleable__label-arrow:before {content: \"▸\";float: left;margin-right: 0.25em;color: #696969;}#sk-container-id-1 label.sk-toggleable__label-arrow:hover:before {color: black;}#sk-container-id-1 div.sk-estimator:hover label.sk-toggleable__label-arrow:before {color: black;}#sk-container-id-1 div.sk-toggleable__content {max-height: 0;max-width: 0;overflow: hidden;text-align: left;background-color: #f0f8ff;}#sk-container-id-1 div.sk-toggleable__content pre {margin: 0.2em;color: black;border-radius: 0.25em;background-color: #f0f8ff;}#sk-container-id-1 input.sk-toggleable__control:checked~div.sk-toggleable__content {max-height: 200px;max-width: 100%;overflow: auto;}#sk-container-id-1 input.sk-toggleable__control:checked~label.sk-toggleable__label-arrow:before {content: \"▾\";}#sk-container-id-1 div.sk-estimator input.sk-toggleable__control:checked~label.sk-toggleable__label {background-color: #d4ebff;}#sk-container-id-1 div.sk-label input.sk-toggleable__control:checked~label.sk-toggleable__label {background-color: #d4ebff;}#sk-container-id-1 input.sk-hidden--visually {border: 0;clip: rect(1px 1px 1px 1px);clip: rect(1px, 1px, 1px, 1px);height: 1px;margin: -1px;overflow: hidden;padding: 0;position: absolute;width: 1px;}#sk-container-id-1 div.sk-estimator {font-family: monospace;background-color: #f0f8ff;border: 1px dotted black;border-radius: 0.25em;box-sizing: border-box;margin-bottom: 0.5em;}#sk-container-id-1 div.sk-estimator:hover {background-color: #d4ebff;}#sk-container-id-1 div.sk-parallel-item::after {content: \"\";width: 100%;border-bottom: 1px solid gray;flex-grow: 1;}#sk-container-id-1 div.sk-label:hover label.sk-toggleable__label {background-color: #d4ebff;}#sk-container-id-1 div.sk-serial::before {content: \"\";position: absolute;border-left: 1px solid gray;box-sizing: border-box;top: 0;bottom: 0;left: 50%;z-index: 0;}#sk-container-id-1 div.sk-serial {display: flex;flex-direction: column;align-items: center;background-color: white;padding-right: 0.2em;padding-left: 0.2em;position: relative;}#sk-container-id-1 div.sk-item {position: relative;z-index: 1;}#sk-container-id-1 div.sk-parallel {display: flex;align-items: stretch;justify-content: center;background-color: white;position: relative;}#sk-container-id-1 div.sk-item::before, #sk-container-id-1 div.sk-parallel-item::before {content: \"\";position: absolute;border-left: 1px solid gray;box-sizing: border-box;top: 0;bottom: 0;left: 50%;z-index: -1;}#sk-container-id-1 div.sk-parallel-item {display: flex;flex-direction: column;z-index: 1;position: relative;background-color: white;}#sk-container-id-1 div.sk-parallel-item:first-child::after {align-self: flex-end;width: 50%;}#sk-container-id-1 div.sk-parallel-item:last-child::after {align-self: flex-start;width: 50%;}#sk-container-id-1 div.sk-parallel-item:only-child::after {width: 0;}#sk-container-id-1 div.sk-dashed-wrapped {border: 1px dashed gray;margin: 0 0.4em 0.5em 0.4em;box-sizing: border-box;padding-bottom: 0.4em;background-color: white;}#sk-container-id-1 div.sk-label label {font-family: monospace;font-weight: bold;display: inline-block;line-height: 1.2em;}#sk-container-id-1 div.sk-label-container {text-align: center;}#sk-container-id-1 div.sk-container {/* jupyter's `normalize.less` sets `[hidden] { display: none; }` but bootstrap.min.css set `[hidden] { display: none !important; }` so we also need the `!important` here to be able to override the default hidden behavior on the sphinx rendered scikit-learn.org. See: https://github.com/scikit-learn/scikit-learn/issues/21755 */display: inline-block !important;position: relative;}#sk-container-id-1 div.sk-text-repr-fallback {display: none;}</style><div id=\"sk-container-id-1\" class=\"sk-top-container\"><div class=\"sk-text-repr-fallback\"><pre>LinearRegression()</pre><b>In a Jupyter environment, please rerun this cell to show the HTML representation or trust the notebook. <br />On GitHub, the HTML representation is unable to render, please try loading this page with nbviewer.org.</b></div><div class=\"sk-container\" hidden><div class=\"sk-item\"><div class=\"sk-estimator sk-toggleable\"><input class=\"sk-toggleable__control sk-hidden--visually\" id=\"sk-estimator-id-1\" type=\"checkbox\" checked><label for=\"sk-estimator-id-1\" class=\"sk-toggleable__label sk-toggleable__label-arrow\">LinearRegression</label><div class=\"sk-toggleable__content\"><pre>LinearRegression()</pre></div></div></div></div></div>"
      ],
      "text/plain": [
       "LinearRegression()"
      ]
     },
     "execution_count": 14,
     "metadata": {},
     "output_type": "execute_result"
    }
   ],
   "source": [
    "from sklearn.linear_model import LinearRegression\n",
    "\n",
    "lin_reg = LinearRegression() #객체 \n",
    "lin_reg.fit(X,y)             #훈련"
   ]
  },
  {
   "cell_type": "code",
   "execution_count": 15,
   "id": "dbb47f2c",
   "metadata": {
    "scrolled": true
   },
   "outputs": [
    {
     "data": {
      "text/plain": [
       "(array([4.21509616]), array([[2.77011339]]))"
      ]
     },
     "execution_count": 15,
     "metadata": {},
     "output_type": "execute_result"
    }
   ],
   "source": [
    "#절편(θ0), 기울기(θ1)\n",
    "lin_reg.intercept_, lin_reg.coef_"
   ]
  },
  {
   "cell_type": "code",
   "execution_count": 16,
   "id": "bdac7858",
   "metadata": {},
   "outputs": [
    {
     "data": {
      "text/plain": [
       "array([[4.21509616],\n",
       "       [9.75532293]])"
      ]
     },
     "execution_count": 16,
     "metadata": {},
     "output_type": "execute_result"
    }
   ],
   "source": [
    "lin_reg.predict(X_new) #X_new: x1=0 & x2=2 "
   ]
  },
  {
   "cell_type": "markdown",
   "id": "a9705fc3",
   "metadata": {},
   "source": [
    "> x1=0 & x2=2 일 때 수동으로 계산하여 구했던 예측값(3번에서)과 동일한 $\\theta_0$, $\\theta_1$ 예측값이 나왔다."
   ]
  },
  {
   "cell_type": "markdown",
   "id": "fae2c3ac",
   "metadata": {},
   "source": [
    "#### 🌎  `fit()`함수 대신 사용할 수 있는 2가지 방법\n",
    "1. `scipy.linalg.lstsq()` 함수(least squares 최소제곱으로부터 파생)를 **직접 호출** \n",
    "-  $\\hat{\\boldsymbol{\\theta}} = \\mathbf{X}^+ \\mathbf{y}$ 계산\n",
    "    - (위에서 언급했던 것처럼 LinearRegression 모델이 위의 함수를 기반으로 하기 때문에)\n",
    "- 이 과정에서 유사 역행렬을 구함"
   ]
  },
  {
   "cell_type": "code",
   "execution_count": 17,
   "id": "f28d8f02",
   "metadata": {},
   "outputs": [
    {
     "data": {
      "text/plain": [
       "array([[4.21509616],\n",
       "       [2.77011339]])"
      ]
     },
     "execution_count": 17,
     "metadata": {},
     "output_type": "execute_result"
    }
   ],
   "source": [
    "theta_best_svd, residuals, rank, s = np.linalg.lstsq(X_b, y, rcond=1e-6)\n",
    "theta_best_svd"
   ]
  },
  {
   "cell_type": "markdown",
   "id": "58f547b6",
   "metadata": {},
   "source": [
    "2. Numpy의 `np.linalg.pinv()`함수로 **유사 역행렬**을 구하여 계산하기\n",
    "    - $\\hat{\\boldsymbol{\\theta}} = \\mathbf{X}^+ \\mathbf{y}$"
   ]
  },
  {
   "cell_type": "code",
   "execution_count": 18,
   "id": "c5ae9e7e",
   "metadata": {
    "scrolled": false
   },
   "outputs": [
    {
     "data": {
      "text/plain": [
       "array([[4.21509616],\n",
       "       [2.77011339]])"
      ]
     },
     "execution_count": 18,
     "metadata": {},
     "output_type": "execute_result"
    }
   ],
   "source": [
    "np.linalg.pinv(X_b).dot(y)"
   ]
  },
  {
   "cell_type": "markdown",
   "id": "357f1e4a",
   "metadata": {},
   "source": [
    "## 4.2 경사하강법 (Gradient Descent)\n",
    "- 특성 수 or 샘플 수가 많을 때는 정규방정식, SVD 방식의 LinearRegression 모델 사용 불가 \n",
    "    - -> 대신, 경사하강법 사용 (훈련 샘플이 너무 많아 메모리에 모두 담을 수 없을 때 적합)\n",
    "- 일반적인 최적화 알고리즘\n",
    "- 기본 아이디어 : 비용함수를 최소화하기 위하여 **반복해서 파라미터를 조정**"
   ]
  },
  {
   "cell_type": "markdown",
   "id": "4d31e8f3",
   "metadata": {},
   "source": [
    "- 진행 방식:<br>(임의의 값)무작위 초기화된 파라미터 벡터 $\\theta$에 대해 비용 함수의 현재 gradient(경사도)를 계산 <br> > **gradient가 감소**되는 방향으로 진행(=즉, `비용함수가 최소화`되는 방향) (반복적으로 수정) <br> > `gradient=0`인 지점인 최솟값에 도달\n",
    "<br>\n",
    "<br>\n",
    "- 학습률 & 비용함수의 기울기는 비례 ➡️ 즉, 파라미터가 최솟값에 가까워질 때 -> 학습률이 점진적으로 줄어듦\n",
    "    - 학습률 (learning rate) - 다음 step으로 이동하는 크기를 조절하는 매개변수 (파라미터 조정 비율)"
   ]
  },
  {
   "cell_type": "markdown",
   "id": "af705937",
   "metadata": {},
   "source": [
    "- 종류 ('배치 크기'에 따라 분류)\n",
    "    - 배치 경사하강법 : 전체 샘플이 훈련 대상\n",
    "    - 확률적 경사하강법 : 배치크기=1\n",
    "    - 미니배치 경사하강법 : 배치크기=2~수백 사이"
   ]
  },
  {
   "cell_type": "markdown",
   "id": "1e6379ec",
   "metadata": {},
   "source": [
    "### 4.2.1) 배치 경사하강법 (Batch Gradient Descent, BGD)\n",
    "- **전체** 훈련 샘플을 대상으로 훈련 -> 즉, 매 스텝마다(epoch마다) gradient를 계산하여 파라미터 조정\n",
    "    - epoch : 훈련 세트의 샘플 수에 대하여 한 번 완료하는 단위. (epoch 수 = 반복 횟수)\n",
    "    <br><br>\n",
    "- 경사하강법을 구현하기 위해 편도함수를 이용해 조금씩 파라미터를 조정\n",
    "    - 파라미터 조정 방식 (경사하강법의 스텝을 구하는 식) :  $\\boldsymbol{\\theta}^{(\\text{next step})} = \\boldsymbol{\\theta}^{(\\text{previous step})} - \\eta\\cdot \\nabla_\\theta \\text{MSE}(\\boldsymbol{\\theta})$<br> ($\\eta$ 는 학습률)\n",
    "        - 스텝의 크기(이동거리) : $\\eta\\cdot \\nabla_\\theta \\text{MSE}(\\boldsymbol{\\theta})$"
   ]
  },
  {
   "cell_type": "markdown",
   "id": "cde01a69",
   "metadata": {},
   "source": [
    "- 비용 함수의 **gradient vector**(=기울기) : $\\nabla_\\theta \\text{MSE}(\\boldsymbol{\\theta})\n",
    " = \\frac{2}{m}\\, \\mathbf{X}^T (\\mathbf{X} \\boldsymbol{\\theta} - \\mathbf{y})$\n"
   ]
  },
  {
   "cell_type": "code",
   "execution_count": 19,
   "id": "13299343",
   "metadata": {},
   "outputs": [],
   "source": [
    "#위의 식을 구현\n",
    "\n",
    "eta = 0.1            #학습률\n",
    "n_iterations = 1000  #반복 횟수\n",
    "m = 100              #훈련 샘플 수\n",
    "\n",
    "theta = np.random.randn(2,1)  #무작위 초기화(표준정규분포를 따르는 임의의 값)된 θ0과 θ1\n",
    "\n",
    "for iteration in range(n_iterations):\n",
    "    gradients = 2/m * X_b.T.dot(X_b.dot(theta) - y) #gradient vector\n",
    "    theta = theta - eta * gradients                 #파라미터 업데이트"
   ]
  },
  {
   "cell_type": "code",
   "execution_count": 20,
   "id": "df102058",
   "metadata": {},
   "outputs": [
    {
     "data": {
      "text/plain": [
       "array([[4.21509616],\n",
       "       [2.77011339]])"
      ]
     },
     "execution_count": 20,
     "metadata": {},
     "output_type": "execute_result"
    }
   ],
   "source": [
    "theta"
   ]
  },
  {
   "cell_type": "markdown",
   "id": "0ff5bd59",
   "metadata": {},
   "source": [
    "> 정규방정식으로 계산했을 때와 동일 -> 경사하강법이 완벽히 작동"
   ]
  },
  {
   "cell_type": "markdown",
   "id": "42b66492",
   "metadata": {},
   "source": [
    "🔍 학습률에 따라 달라지는 파라미터 학습 과정 비교 그래프 그리기"
   ]
  },
  {
   "cell_type": "code",
   "execution_count": 43,
   "id": "a198c9af",
   "metadata": {},
   "outputs": [],
   "source": [
    "theta_path_bgd = []\n",
    "\n",
    "def plot_gradient_descent(theta, eta, theta_path=None):\n",
    "    m = len(X_b)\n",
    "    plt.plot(X, y, \"b.\")   #훈련 세트의 산점도\n",
    "    \n",
    "    n_iterations = 1000    #반복횟수(epoch) 1000번\n",
    "    for iteration in range(n_iterations):\n",
    "        \n",
    "        if iteration < 10:\n",
    "            y_predict = X_new_b.dot(theta)\n",
    "            style = \"b-\" if iteration > 0 else \"r--\"\n",
    "            plt.plot(X_new, y_predict, style)\n",
    "            \n",
    "        #파라미터 조정 비율 지정\n",
    "        gradients = 2/m * X_b.T.dot(X_b.dot(theta) - y)\n",
    "        theta = theta - eta * gradients\n",
    "        \n",
    "        #theta_path 리스트에 변화하는 파라미터들을 모두 저장\n",
    "        if theta_path is not None:\n",
    "            theta_path.append(theta)\n",
    "            \n",
    "    plt.xlabel(\"$x_1$\", fontsize=18)\n",
    "    plt.axis([0, 2, 0, 15])  #x축:0-2,y축:0-15\n",
    "    plt.title(r\"$\\eta = {}$\".format(eta), fontsize=16)        "
   ]
  },
  {
   "cell_type": "code",
   "execution_count": 45,
   "id": "f4eb027d",
   "metadata": {
    "scrolled": true
   },
   "outputs": [
    {
     "name": "stdout",
     "output_type": "stream",
     "text": [
      "Saving figure gradient_descent_plot\n"
     ]
    },
    {
     "data": {
      "image/png": "[encoded data removed]",
      "text/plain": [
       "<Figure size 720x288 with 3 Axes>"
      ]
     },
     "metadata": {
      "needs_background": "light"
     },
     "output_type": "display_data"
    }
   ],
   "source": [
    "np.random.seed(42)\n",
    "theta = np.random.randn(2,1) #무작위 초기화한 파라미터\n",
    "\n",
    "plt.figure(figsize=(10,4))  #figure 사이즈 지정\n",
    "\n",
    "#1.학습률=0.02인 경우\n",
    "plt.subplot(131); plot_gradient_descent(theta, eta=0.02)\n",
    "plt.ylabel(\"$y$\", rotation=0, fontsize=18)\n",
    "\n",
    "#2.학습률=0.1인 경우\n",
    "plt.subplot(132); plot_gradient_descent(theta, eta=0.1, theta_path=theta_path_bgd)\n",
    "\n",
    "#3.학습률=0.5인 경우\n",
    "plt.subplot(133); plot_gradient_descent(theta, eta=0.5)\n",
    "\n",
    "save_fig(\"gradient_descent_plot\")\n",
    "plt.show()"
   ]
  },
  {
   "cell_type": "markdown",
   "id": "c8a93e80",
   "metadata": {},
   "source": [
    ">- 학습률 너무 낮음 (왼) : 최적점에 도달하기까지 시간이 오래 걸림.\n",
    ">-  학습률이 적당 (가운데) : 반복 몇 번 만에 최적점 도달.\n",
    ">-  학습률 너무 높음 (오) : 스텝이 너무 크기 때문에 알고리즘이 널뛰어 발산."
   ]
  },
  {
   "cell_type": "markdown",
   "id": "0a13c003",
   "metadata": {},
   "source": [
    "> ✏️ `np.random.seed(42)` : Numpy의 라이브러리를 사용하여 난수 생성 시드(seed)를 설정하는 명령. (42는 별 의미 없다고 함. 일반적으로 통용되는 숫자)<br> \n",
    "> - seed는 난수를 생성할 때 사용하는 초깃값. 특정 seed를 사용하면 그 seed를 사용할 때마다 **동일한 난수 시퀀스가 생성**. (고정된 난수값이라고 생각하면 될 듯)<br>\n",
    "     -> 실험의 재현성을 보장하고 코드의 예측 가능성을 높여줌 (즉, 난수를 일관적이게 유지시킴으로써 같은 코드를 여러 번 실행해도 같은 결과값이 나오도록 만들 때 사용)"
   ]
  },
  {
   "cell_type": "markdown",
   "id": "3fed8d45",
   "metadata": {},
   "source": [
    "> 참고) 사이킷런은 배치 하강법에 대한 선형 회귀 모델을 지원하지 않는다고 함. (176쪽에 잘 못 표기)"
   ]
  },
  {
   "cell_type": "markdown",
   "id": "bab9d66b",
   "metadata": {},
   "source": [
    "### 4.2.2) 확률적 경사 하강법 (Stochastic Gradient Descent, SGD)\n",
    "- 매 스텝에서 샘플 **무작위 선택** > 그 샘플 하나에 대한 gradient 계산\n",
    "<br>\n",
    "<br>\n",
    "- 장점\n",
    "    - 필요한 데이터⬇️ > 알고리즘 속도 ⬆️ (훈련 세트 큰 경우도 가능)\n",
    "- 단점\n",
    "    - \"무작위성\" -> 알고리즘 불안정 (학습하는 동안 파라미터의 동요가 심함 -> 최적치가 아니거나 발산 <br>\n",
    "    - but, 불안정으로 인해 지역 최솟값 건너뛸 가능성이 배치 하강법보다 높음 <br>\n",
    "    - but, 전역 최솟값에 다다르지 못함"
   ]
  },
  {
   "cell_type": "markdown",
   "id": "fca33e03",
   "metadata": {},
   "source": [
    "➡️ 이러한 딜레마 해결법 : **학습률 점진적 감소 시키기** \n",
    "- 시작 시, 학습률 크게(빠른 수렴, 지역 최솟값 넘기도록) --> 학습률을 점차 줄이기 (전역 최솟값에 다다르도록)\n",
    "\n",
    "- 학습 스케줄 (learning schedule, 매 반복에서 학습률을 결정하는 함수)을 올바르게 설정해야 한다."
   ]
  },
  {
   "cell_type": "markdown",
   "id": "0fe2b766",
   "metadata": {},
   "source": [
    "📚 간단한 학습 스케줄을 이용한 확률적 경사 하강법을 구현해보자."
   ]
  },
  {
   "cell_type": "code",
   "execution_count": 23,
   "id": "567253b1",
   "metadata": {},
   "outputs": [],
   "source": [
    "n_epochs = 50   #에포크 수(반복 횟수) -> 배치하강법보다 훨씬 적음\n",
    "t0, t1 = 5, 50  #학습 스케줄 하이퍼파라미터\n",
    "\n",
    "#학습 스케줄 정의\n",
    "def learning_schedule(t):\n",
    "    return t0 / (t + t1)\n",
    "\n",
    "theta = np.random.randn(2,1) #파라미터 무작위 초기화\n",
    "\n",
    "#확률적 경사 하강법\n",
    "for epoch in range(n_epochs):\n",
    "        #하나의 반복(에포크)에서 샘플 수만큼 되풀이\n",
    "        for i in range(m):\n",
    "            random_index = np.random.randint(m)   #범위 내에서 샘플 무작위로 한 개 추출\n",
    "            xi = X_b[random_index:random_index+1] \n",
    "            yi = y[random_index:random_index+1]\n",
    "\n",
    "            gradients = 2 * xi.T.dot(xi.dot(theta) - yi) \n",
    "\n",
    "            eta = learning_schedule(epoch * m + i)\n",
    "\n",
    "            theta = theta - eta * gradients   #파라미터 업데이트"
   ]
  },
  {
   "cell_type": "code",
   "execution_count": 24,
   "id": "a9b53756",
   "metadata": {},
   "outputs": [
    {
     "data": {
      "text/plain": [
       "array([[4.20742938],\n",
       "       [2.74264448]])"
      ]
     },
     "execution_count": 24,
     "metadata": {},
     "output_type": "execute_result"
    }
   ],
   "source": [
    "theta"
   ]
  },
  {
   "cell_type": "markdown",
   "id": "87417918",
   "metadata": {},
   "source": [
    "> 적은 에포크 수(50번)만으로 좋은 파라미터 값에 도달"
   ]
  },
  {
   "cell_type": "markdown",
   "id": "a5167fe7",
   "metadata": {},
   "source": [
    "➕ (응용) 위의 코드를 변경하여 **그래프로 표현해보자. (첫 20개의 스텝)**"
   ]
  },
  {
   "cell_type": "code",
   "execution_count": 25,
   "id": "5ee6af41",
   "metadata": {},
   "outputs": [],
   "source": [
    "theta_path_sgd = [] #파라미터 업데이트할 때마다 파라미터 값을 저장하는 리스트\n",
    "\n",
    "m = len(X_b)\n",
    "np.random.seed(42)"
   ]
  },
  {
   "cell_type": "code",
   "execution_count": 26,
   "id": "d2033b7a",
   "metadata": {},
   "outputs": [],
   "source": [
    "n_epochs = 50   #에포크 수(반복 횟수) \n",
    "t0, t1 = 5, 50  #학습 스케줄 하이퍼파라미터\n",
    "\n",
    "#학습 스케줄 정의\n",
    "def learning_schedule(t):\n",
    "    return t0 / (t + t1)"
   ]
  },
  {
   "cell_type": "code",
   "execution_count": 27,
   "id": "b855be57",
   "metadata": {},
   "outputs": [
    {
     "name": "stdout",
     "output_type": "stream",
     "text": [
      "Saving figure sgd_plot\n"
     ]
    },
    {
     "data": {
      "image/png": "[encoded data removed]",
      "text/plain": [
       "<Figure size 432x288 with 1 Axes>"
      ]
     },
     "metadata": {
      "needs_background": "light"
     },
     "output_type": "display_data"
    }
   ],
   "source": [
    "theta = np.random.randn(2,1)  #파라미터 - 무작위 초기화 \n",
    "\n",
    "#에포크 수만큼(50번) 반복\n",
    "for epoch in range(n_epochs):\n",
    "    \n",
    "    #하나의 에포크에서 샘플 수만큼 알고리즘이 반복 됨\n",
    "    for i in range(m):\n",
    "        \n",
    "        #첫 에포크에서, 20번째 스텝까지 선형 그래프 (직선)\n",
    "        if epoch == 0 and i < 20:\n",
    "            y_predict = X_new_b.dot(theta)\n",
    "            style = \"b-\" if i > 0 else \"r--\"\n",
    "            plt.plot(X_new, y_predict, style)\n",
    "        \n",
    "        #파라미터 업데이트 \n",
    "        random_index = np.random.randint(m)    #계산할 샘플 확률적(무작위) 선택\n",
    "        xi = X_b[random_index:random_index+1]  #해당 샘플 적용\n",
    "        yi = y[random_index:random_index+1]    #타겟 값(예측값) 할당\n",
    "       \n",
    "        gradients = 2 * xi.T.dot(xi.dot(theta) - yi)\n",
    "        eta = learning_schedule(epoch * m + i) #학습 스케줄 함수 이용하여 학습률 조정\n",
    "        theta = theta - eta * gradients\n",
    "        theta_path_sgd.append(theta)           #파라미터 업데이트될 때마다 리스트에 값 추가\n",
    "\n",
    "plt.plot(X, y, \"b.\")\n",
    "plt.xlabel(\"$x_1$\", fontsize=18)\n",
    "plt.ylabel(\"$y$\", rotation=0, fontsize=18)\n",
    "plt.axis([0, 2, 0, 15])\n",
    "save_fig(\"sgd_plot\")\n",
    "plt.show()"
   ]
  },
  {
   "cell_type": "code",
   "execution_count": 28,
   "id": "d1519ba7",
   "metadata": {
    "scrolled": true
   },
   "outputs": [
    {
     "data": {
      "text/plain": [
       "array([[4.21076011],\n",
       "       [2.74856079]])"
      ]
     },
     "execution_count": 28,
     "metadata": {},
     "output_type": "execute_result"
    }
   ],
   "source": [
    "theta"
   ]
  },
  {
   "cell_type": "markdown",
   "id": "2cdb5065",
   "metadata": {},
   "source": [
    "#### 사이킷런의 `SGDRegressor` 클래스\n",
    "- SGD(확률적 경사 하강법)방식을 사용하여 제곱 오차 비용 함수를 최적화"
   ]
  },
  {
   "cell_type": "code",
   "execution_count": 29,
   "id": "d366ef47",
   "metadata": {
    "scrolled": true
   },
   "outputs": [
    {
     "data": {
      "text/html": [
       "<style>#sk-container-id-2 {color: black;}#sk-container-id-2 pre{padding: 0;}#sk-container-id-2 div.sk-toggleable {background-color: white;}#sk-container-id-2 label.sk-toggleable__label {cursor: pointer;display: block;width: 100%;margin-bottom: 0;padding: 0.3em;box-sizing: border-box;text-align: center;}#sk-container-id-2 label.sk-toggleable__label-arrow:before {content: \"▸\";float: left;margin-right: 0.25em;color: #696969;}#sk-container-id-2 label.sk-toggleable__label-arrow:hover:before {color: black;}#sk-container-id-2 div.sk-estimator:hover label.sk-toggleable__label-arrow:before {color: black;}#sk-container-id-2 div.sk-toggleable__content {max-height: 0;max-width: 0;overflow: hidden;text-align: left;background-color: #f0f8ff;}#sk-container-id-2 div.sk-toggleable__content pre {margin: 0.2em;color: black;border-radius: 0.25em;background-color: #f0f8ff;}#sk-container-id-2 input.sk-toggleable__control:checked~div.sk-toggleable__content {max-height: 200px;max-width: 100%;overflow: auto;}#sk-container-id-2 input.sk-toggleable__control:checked~label.sk-toggleable__label-arrow:before {content: \"▾\";}#sk-container-id-2 div.sk-estimator input.sk-toggleable__control:checked~label.sk-toggleable__label {background-color: #d4ebff;}#sk-container-id-2 div.sk-label input.sk-toggleable__control:checked~label.sk-toggleable__label {background-color: #d4ebff;}#sk-container-id-2 input.sk-hidden--visually {border: 0;clip: rect(1px 1px 1px 1px);clip: rect(1px, 1px, 1px, 1px);height: 1px;margin: -1px;overflow: hidden;padding: 0;position: absolute;width: 1px;}#sk-container-id-2 div.sk-estimator {font-family: monospace;background-color: #f0f8ff;border: 1px dotted black;border-radius: 0.25em;box-sizing: border-box;margin-bottom: 0.5em;}#sk-container-id-2 div.sk-estimator:hover {background-color: #d4ebff;}#sk-container-id-2 div.sk-parallel-item::after {content: \"\";width: 100%;border-bottom: 1px solid gray;flex-grow: 1;}#sk-container-id-2 div.sk-label:hover label.sk-toggleable__label {background-color: #d4ebff;}#sk-container-id-2 div.sk-serial::before {content: \"\";position: absolute;border-left: 1px solid gray;box-sizing: border-box;top: 0;bottom: 0;left: 50%;z-index: 0;}#sk-container-id-2 div.sk-serial {display: flex;flex-direction: column;align-items: center;background-color: white;padding-right: 0.2em;padding-left: 0.2em;position: relative;}#sk-container-id-2 div.sk-item {position: relative;z-index: 1;}#sk-container-id-2 div.sk-parallel {display: flex;align-items: stretch;justify-content: center;background-color: white;position: relative;}#sk-container-id-2 div.sk-item::before, #sk-container-id-2 div.sk-parallel-item::before {content: \"\";position: absolute;border-left: 1px solid gray;box-sizing: border-box;top: 0;bottom: 0;left: 50%;z-index: -1;}#sk-container-id-2 div.sk-parallel-item {display: flex;flex-direction: column;z-index: 1;position: relative;background-color: white;}#sk-container-id-2 div.sk-parallel-item:first-child::after {align-self: flex-end;width: 50%;}#sk-container-id-2 div.sk-parallel-item:last-child::after {align-self: flex-start;width: 50%;}#sk-container-id-2 div.sk-parallel-item:only-child::after {width: 0;}#sk-container-id-2 div.sk-dashed-wrapped {border: 1px dashed gray;margin: 0 0.4em 0.5em 0.4em;box-sizing: border-box;padding-bottom: 0.4em;background-color: white;}#sk-container-id-2 div.sk-label label {font-family: monospace;font-weight: bold;display: inline-block;line-height: 1.2em;}#sk-container-id-2 div.sk-label-container {text-align: center;}#sk-container-id-2 div.sk-container {/* jupyter's `normalize.less` sets `[hidden] { display: none; }` but bootstrap.min.css set `[hidden] { display: none !important; }` so we also need the `!important` here to be able to override the default hidden behavior on the sphinx rendered scikit-learn.org. See: https://github.com/scikit-learn/scikit-learn/issues/21755 */display: inline-block !important;position: relative;}#sk-container-id-2 div.sk-text-repr-fallback {display: none;}</style><div id=\"sk-container-id-2\" class=\"sk-top-container\"><div class=\"sk-text-repr-fallback\"><pre>SGDRegressor(eta0=0.1, penalty=None, random_state=42)</pre><b>In a Jupyter environment, please rerun this cell to show the HTML representation or trust the notebook. <br />On GitHub, the HTML representation is unable to render, please try loading this page with nbviewer.org.</b></div><div class=\"sk-container\" hidden><div class=\"sk-item\"><div class=\"sk-estimator sk-toggleable\"><input class=\"sk-toggleable__control sk-hidden--visually\" id=\"sk-estimator-id-2\" type=\"checkbox\" checked><label for=\"sk-estimator-id-2\" class=\"sk-toggleable__label sk-toggleable__label-arrow\">SGDRegressor</label><div class=\"sk-toggleable__content\"><pre>SGDRegressor(eta0=0.1, penalty=None, random_state=42)</pre></div></div></div></div></div>"
      ],
      "text/plain": [
       "SGDRegressor(eta0=0.1, penalty=None, random_state=42)"
      ]
     },
     "execution_count": 29,
     "metadata": {},
     "output_type": "execute_result"
    }
   ],
   "source": [
    "from sklearn.linear_model import SGDRegressor\n",
    "\n",
    "                    #에포크 최대 1000번, 허용오차=0.001(1e-3), 학습률=0.1, random_state(random seed와 같은 기능)\n",
    "sgd_reg = SGDRegressor(max_iter=1000, tol=1e-3, penalty=None, eta0=0.1, random_state=42) \n",
    "sgd_reg.fit(X, y.ravel())"
   ]
  },
  {
   "cell_type": "markdown",
   "id": "214e1c3b",
   "metadata": {},
   "source": [
    "> `ravel()`: 2차원 배열을 1차원으로 평평하게 만들어주는 함수. 일반적으로 선형 회귀에서 타겟 변수는 1차원 벡터로 제공."
   ]
  },
  {
   "cell_type": "code",
   "execution_count": 30,
   "id": "c982ad1f",
   "metadata": {},
   "outputs": [
    {
     "data": {
      "text/plain": [
       "(array([4.24365286]), array([2.8250878]))"
      ]
     },
     "execution_count": 30,
     "metadata": {},
     "output_type": "execute_result"
    }
   ],
   "source": [
    "sgd_reg.intercept_, sgd_reg.coef_"
   ]
  },
  {
   "cell_type": "markdown",
   "id": "c5a2e717",
   "metadata": {},
   "source": [
    "> 정규방정식으로 구한 값과 매우 유사"
   ]
  },
  {
   "cell_type": "markdown",
   "id": "b4962839",
   "metadata": {},
   "source": [
    "### 4.2.3) 미니배치 경사 하강법 (Mini-batch Gradient Descent, MGD)\n",
    "- `미니배치`라 하는 작은 샘플 세트에 대해 gradient 계산\n",
    "    - **스텝의 크기(보폭) 🟰 미니배치 사이즈**\n",
    "<br><br>\n",
    "- 장점\n",
    "    - 미니배치 크게 어느 정도 크게 하면 > 파라미터 움직임이(파라미터 공간 안에서) SGD보다 덜 불규칙 <br>\n",
    "        -> SGD보다 최솟값에 더 가까이 도달 (학습 스케줄 잘 활용하면)\n",
    "    - 배치 경사 하강법보다 빠르게 학습(샘플 크기가 더 작으므로)\n",
    "    - GPU 통해서 얻는 성능⬆️\n",
    "    \n",
    "- 단점\n",
    "    - SGD에 비해 지역 최솟값에서 벗어날 확률⬇️"
   ]
  },
  {
   "cell_type": "markdown",
   "id": "d1c311db",
   "metadata": {},
   "source": [
    "📚 미니배치 경사 하강법 구현"
   ]
  },
  {
   "cell_type": "code",
   "execution_count": 31,
   "id": "6e336f58",
   "metadata": {},
   "outputs": [],
   "source": [
    "theta_path_mgd = []  #업데이트 되는 파라미터 순차적으로 담을 리스트\n",
    "\n",
    "n_iterations = 50    #에포크 수(반복 횟수): 50번\n",
    "minibatch_size = 20  #미니배치 크기: 20\n",
    "\n",
    "np.random.seed(42)\n",
    "theta = np.random.randn(2,1) #파라미터 무작위 초기화\n",
    "\n",
    "t0, t1 = 200, 1000   #학습 스케줄 파라미터 \n",
    "\n",
    "def learning_schedule(t): # t:미니배치의 개수(사이즈 아님)\n",
    "    return t0 / (t + t1)"
   ]
  },
  {
   "cell_type": "code",
   "execution_count": 32,
   "id": "db6c319e",
   "metadata": {},
   "outputs": [],
   "source": [
    "t = 0\n",
    "\n",
    "for epoch in range(n_iterations):\n",
    "    \n",
    "    #에포크 넘어갈 때마다 훈련 데이터 섞음\n",
    "    shuffled_indices = np.random.permutation(m)\n",
    "    X_b_shuffled = X_b[shuffled_indices]\n",
    "    y_shuffled = y[shuffled_indices]\n",
    "    \n",
    "    #샘플 수만큼 반복 & step:미니배치 크기\n",
    "    for i in range(0, m, minibatch_size):\n",
    "        t += 1\n",
    "        xi = X_b_shuffled[i:i+minibatch_size]\n",
    "        yi = y_shuffled[i:i+minibatch_size]\n",
    "        \n",
    "        gradients = 2/minibatch_size * xi.T.dot(xi.dot(theta) - yi)\n",
    "        eta = learning_schedule(t)\n",
    "        theta = theta - eta * gradients \n",
    "        theta_path_mgd.append(theta)"
   ]
  },
  {
   "cell_type": "code",
   "execution_count": 33,
   "id": "32fd6310",
   "metadata": {},
   "outputs": [
    {
     "data": {
      "text/plain": [
       "array([[4.25214635],\n",
       "       [2.7896408 ]])"
      ]
     },
     "execution_count": 33,
     "metadata": {},
     "output_type": "execute_result"
    }
   ],
   "source": [
    "theta"
   ]
  },
  {
   "cell_type": "markdown",
   "id": "1326bf27",
   "metadata": {},
   "source": [
    "#### 📚 세 가지 경사 하강법의 파라미터 학습 경로 비교 그래프 (배치 & 확률적 & 미니배치)\n",
    "- 파란색 : 배치 (BGD)\n",
    "- 붉은색 : 확률적 (SGD)\n",
    "- 초록색 : 미니배치 (MGD)"
   ]
  },
  {
   "cell_type": "code",
   "execution_count": 47,
   "id": "fb82d5ab",
   "metadata": {},
   "outputs": [],
   "source": [
    "#각각 파라미터들을 담을 리스트 지정\n",
    "\n",
    "theta_path_bgd = np.array(theta_path_bgd)\n",
    "theta_path_sgd = np.array(theta_path_sgd)\n",
    "theta_path_mgd = np.array(theta_path_mgd)"
   ]
  },
  {
   "cell_type": "code",
   "execution_count": 49,
   "id": "3bb31cbc",
   "metadata": {},
   "outputs": [
    {
     "name": "stdout",
     "output_type": "stream",
     "text": [
      "Saving figure gradient_descent_paths_plot\n"
     ]
    },
    {
     "data": {
      "image/png": "[encoded data removed]",
      "text/plain": [
       "<Figure size 504x288 with 1 Axes>"
      ]
     },
     "metadata": {
      "needs_background": "light"
     },
     "output_type": "display_data"
    }
   ],
   "source": [
    "plt.figure(figsize=(7,4))\n",
    "\n",
    "plt.plot(theta_path_sgd[:, 0], theta_path_sgd[:, 1], \"r-s\", linewidth=1, label=\"Stochastic Gradient Descent\")\n",
    "plt.plot(theta_path_mgd[:, 0], theta_path_mgd[:, 1], \"g-+\", linewidth=2, label=\"Mini-batch Gradient Descent\")\n",
    "plt.plot(theta_path_bgd[:, 0], theta_path_bgd[:, 1], \"b-o\", linewidth=3, label=\"Batch Gradient Descent\")\n",
    "\n",
    "plt.legend(loc=\"upper left\", fontsize=16)\n",
    "plt.xlabel(r\"$\\theta_0$\", fontsize=20)\n",
    "plt.ylabel(r\"$theta_1$\", fontsize=20, rotation=0)\n",
    "plt.axis([2.5, 4.5, 2.3, 3.9])\n",
    "save_fig(\"gradient_descent_paths_plot\")\n",
    "plt.show()"
   ]
  },
  {
   "cell_type": "markdown",
   "id": "a11e743f",
   "metadata": {},
   "source": [
    ">-  배치(파랑) - 실제로 최솟값에서 멈춤. but 많은 시간 소요\n",
    ">- 미니배치(초) & 확률적(빨) - 최솟값 근처에서 맴돌고 있음. 적절한 학습 스케줄 사용하면 최솟값에 도달함."
   ]
  },
  {
   "cell_type": "markdown",
   "id": "faed329b",
   "metadata": {},
   "source": [
    "## 4.3 다항 회귀 (Polynomial Regression)\n",
    "- `선형 모델`을 사용하여 `비선형 데이터를 학습`할 수 있다.\n",
    "    - 방법: 각 특성의 거듭제곱 -> 새로운 특성으로 추가 -> 확장된 특성으로 선형 모델을 훈련"
   ]
  },
  {
   "cell_type": "markdown",
   "id": "e6f4d25c",
   "metadata": {},
   "source": [
    "#### 📚 예) 2차방정식으로 비선형 데이터 생성하기 (잡음 포함) \n",
    "$$y = 0.5\\cdot x_1^2 + 2$$"
   ]
  },
  {
   "cell_type": "code",
   "execution_count": 70,
   "id": "afc392cb",
   "metadata": {},
   "outputs": [],
   "source": [
    "np.random.seed(42)\n",
    "\n",
    "m = 100\n",
    "X = 6 * np.random.rand(m,1) - 3\n",
    "y = 0.5 * X**2 + X + 2 + np.random.randn(m,1)"
   ]
  },
  {
   "cell_type": "markdown",
   "id": "13aa2a2c",
   "metadata": {},
   "source": [
    "- `np.random.rand(m,1)` - m개의 행, 1개의 열을 가지는 2차원 배열 생성 (범위: 0과 1 사이의 **균일 분포**)"
   ]
  },
  {
   "cell_type": "code",
   "execution_count": 64,
   "id": "cb82cf38",
   "metadata": {},
   "outputs": [
    {
     "name": "stdout",
     "output_type": "stream",
     "text": [
      "Saving figure quardratic_data_plot\n"
     ]
    },
    {
     "data": {
      "image/png": "[encoded data removed]",
      "text/plain": [
       "<Figure size 432x288 with 1 Axes>"
      ]
     },
     "metadata": {
      "needs_background": "light"
     },
     "output_type": "display_data"
    }
   ],
   "source": [
    "#산점도 그래프\n",
    "\n",
    "plt.plot(X, y, \"b.\")\n",
    "plt.xlabel(\"$x_1$\", fontsize=18)\n",
    "plt.ylabel(\"$y$\", rotation=0, fontsize=18)\n",
    "plt.axis([-3, 3, 0, 10])\n",
    "save_fig(\"quardratic_data_plot\")\n",
    "plt.show()"
   ]
  },
  {
   "cell_type": "markdown",
   "id": "7523ece5",
   "metadata": {},
   "source": [
    "> 확실히 직선은 이 데이터에 맞지 않을 것이다. (즉, 선형 회귀 모델을 바로 적용하면 좋은 모델을 얻을 수 없다.)\n",
    "\n",
    "- 따라서, 다항 회귀 기법을 사용해보자."
   ]
  },
  {
   "cell_type": "markdown",
   "id": "4e96c78c",
   "metadata": {},
   "source": [
    "#### 사이킷런의 `PolynomialFeatures` (다항 회귀 변환기)"
   ]
  },
  {
   "cell_type": "code",
   "execution_count": 65,
   "id": "84314e82",
   "metadata": {},
   "outputs": [],
   "source": [
    "from sklearn.preprocessing import PolynomialFeatures\n",
    "\n",
    "poly_features = PolynomialFeatures(degree=2, include_bias=False)\n",
    "X_poly = poly_features.fit_transform(X)"
   ]
  },
  {
   "cell_type": "markdown",
   "id": "28f24ae3",
   "metadata": {},
   "source": [
    "> - `degree=2` : 2차 다항식 사용해라.\n",
    "> - `include_bias=False` : 편향(절편)을 변환된 어레이에 추가할지 여부 지정. 기본값은 True 이지만 여기서는 사용하지 않음. 이유는 변환된 어레이를 LinearRegression() 모델에서 사용할 예정이며, 거기서 입력 어레이는 편향을 사용하지 않기 때문임. (위의 참고 포스팅 속 글 인용)\n",
    "\n",
    "> - 변환된 array `X_poly` : x1 특성과, __x1**2__인 새로운 특성(X[0])이 추가"
   ]
  },
  {
   "cell_type": "code",
   "execution_count": 68,
   "id": "fa7c1299",
   "metadata": {},
   "outputs": [
    {
     "data": {
      "text/plain": [
       "array([-0.75275929])"
      ]
     },
     "execution_count": 68,
     "metadata": {},
     "output_type": "execute_result"
    }
   ],
   "source": [
    "#기존 array X\n",
    "\n",
    "X[0]"
   ]
  },
  {
   "cell_type": "markdown",
   "id": "9e3c570c",
   "metadata": {},
   "source": [
    "> \"x1\" 특성만 존재"
   ]
  },
  {
   "cell_type": "code",
   "execution_count": 69,
   "id": "8b6088a8",
   "metadata": {},
   "outputs": [
    {
     "data": {
      "text/plain": [
       "array([-0.75275929,  0.56664654])"
      ]
     },
     "execution_count": 69,
     "metadata": {},
     "output_type": "execute_result"
    }
   ],
   "source": [
    "# 새로운 특성 (x1**2) 추가된 X_poly\n",
    "\n",
    "X_poly[0]"
   ]
  },
  {
   "cell_type": "markdown",
   "id": "70f6d1fc",
   "metadata": {},
   "source": [
    "> `x1` & `x1**2` 특성 두 개 존재"
   ]
  },
  {
   "cell_type": "markdown",
   "id": "c65af83c",
   "metadata": {},
   "source": [
    "- 이제, 확장된 훈련 데이터(X_poly)에 선형 회귀 모델(`LinearRegression`)을 적용해보자."
   ]
  },
  {
   "cell_type": "code",
   "execution_count": 72,
   "id": "693ed0ee",
   "metadata": {},
   "outputs": [
    {
     "data": {
      "text/html": [
       "<style>#sk-container-id-3 {color: black;}#sk-container-id-3 pre{padding: 0;}#sk-container-id-3 div.sk-toggleable {background-color: white;}#sk-container-id-3 label.sk-toggleable__label {cursor: pointer;display: block;width: 100%;margin-bottom: 0;padding: 0.3em;box-sizing: border-box;text-align: center;}#sk-container-id-3 label.sk-toggleable__label-arrow:before {content: \"▸\";float: left;margin-right: 0.25em;color: #696969;}#sk-container-id-3 label.sk-toggleable__label-arrow:hover:before {color: black;}#sk-container-id-3 div.sk-estimator:hover label.sk-toggleable__label-arrow:before {color: black;}#sk-container-id-3 div.sk-toggleable__content {max-height: 0;max-width: 0;overflow: hidden;text-align: left;background-color: #f0f8ff;}#sk-container-id-3 div.sk-toggleable__content pre {margin: 0.2em;color: black;border-radius: 0.25em;background-color: #f0f8ff;}#sk-container-id-3 input.sk-toggleable__control:checked~div.sk-toggleable__content {max-height: 200px;max-width: 100%;overflow: auto;}#sk-container-id-3 input.sk-toggleable__control:checked~label.sk-toggleable__label-arrow:before {content: \"▾\";}#sk-container-id-3 div.sk-estimator input.sk-toggleable__control:checked~label.sk-toggleable__label {background-color: #d4ebff;}#sk-container-id-3 div.sk-label input.sk-toggleable__control:checked~label.sk-toggleable__label {background-color: #d4ebff;}#sk-container-id-3 input.sk-hidden--visually {border: 0;clip: rect(1px 1px 1px 1px);clip: rect(1px, 1px, 1px, 1px);height: 1px;margin: -1px;overflow: hidden;padding: 0;position: absolute;width: 1px;}#sk-container-id-3 div.sk-estimator {font-family: monospace;background-color: #f0f8ff;border: 1px dotted black;border-radius: 0.25em;box-sizing: border-box;margin-bottom: 0.5em;}#sk-container-id-3 div.sk-estimator:hover {background-color: #d4ebff;}#sk-container-id-3 div.sk-parallel-item::after {content: \"\";width: 100%;border-bottom: 1px solid gray;flex-grow: 1;}#sk-container-id-3 div.sk-label:hover label.sk-toggleable__label {background-color: #d4ebff;}#sk-container-id-3 div.sk-serial::before {content: \"\";position: absolute;border-left: 1px solid gray;box-sizing: border-box;top: 0;bottom: 0;left: 50%;z-index: 0;}#sk-container-id-3 div.sk-serial {display: flex;flex-direction: column;align-items: center;background-color: white;padding-right: 0.2em;padding-left: 0.2em;position: relative;}#sk-container-id-3 div.sk-item {position: relative;z-index: 1;}#sk-container-id-3 div.sk-parallel {display: flex;align-items: stretch;justify-content: center;background-color: white;position: relative;}#sk-container-id-3 div.sk-item::before, #sk-container-id-3 div.sk-parallel-item::before {content: \"\";position: absolute;border-left: 1px solid gray;box-sizing: border-box;top: 0;bottom: 0;left: 50%;z-index: -1;}#sk-container-id-3 div.sk-parallel-item {display: flex;flex-direction: column;z-index: 1;position: relative;background-color: white;}#sk-container-id-3 div.sk-parallel-item:first-child::after {align-self: flex-end;width: 50%;}#sk-container-id-3 div.sk-parallel-item:last-child::after {align-self: flex-start;width: 50%;}#sk-container-id-3 div.sk-parallel-item:only-child::after {width: 0;}#sk-container-id-3 div.sk-dashed-wrapped {border: 1px dashed gray;margin: 0 0.4em 0.5em 0.4em;box-sizing: border-box;padding-bottom: 0.4em;background-color: white;}#sk-container-id-3 div.sk-label label {font-family: monospace;font-weight: bold;display: inline-block;line-height: 1.2em;}#sk-container-id-3 div.sk-label-container {text-align: center;}#sk-container-id-3 div.sk-container {/* jupyter's `normalize.less` sets `[hidden] { display: none; }` but bootstrap.min.css set `[hidden] { display: none !important; }` so we also need the `!important` here to be able to override the default hidden behavior on the sphinx rendered scikit-learn.org. See: https://github.com/scikit-learn/scikit-learn/issues/21755 */display: inline-block !important;position: relative;}#sk-container-id-3 div.sk-text-repr-fallback {display: none;}</style><div id=\"sk-container-id-3\" class=\"sk-top-container\"><div class=\"sk-text-repr-fallback\"><pre>LinearRegression()</pre><b>In a Jupyter environment, please rerun this cell to show the HTML representation or trust the notebook. <br />On GitHub, the HTML representation is unable to render, please try loading this page with nbviewer.org.</b></div><div class=\"sk-container\" hidden><div class=\"sk-item\"><div class=\"sk-estimator sk-toggleable\"><input class=\"sk-toggleable__control sk-hidden--visually\" id=\"sk-estimator-id-3\" type=\"checkbox\" checked><label for=\"sk-estimator-id-3\" class=\"sk-toggleable__label sk-toggleable__label-arrow\">LinearRegression</label><div class=\"sk-toggleable__content\"><pre>LinearRegression()</pre></div></div></div></div></div>"
      ],
      "text/plain": [
       "LinearRegression()"
      ]
     },
     "execution_count": 72,
     "metadata": {},
     "output_type": "execute_result"
    }
   ],
   "source": [
    "lin_reg = LinearRegression()\n",
    "lin_reg.fit(X_poly, y)"
   ]
  },
  {
   "cell_type": "code",
   "execution_count": 73,
   "id": "088baca7",
   "metadata": {},
   "outputs": [
    {
     "data": {
      "text/plain": [
       "(array([1.78134581]), array([[0.93366893, 0.56456263]]))"
      ]
     },
     "execution_count": 73,
     "metadata": {},
     "output_type": "execute_result"
    }
   ],
   "source": [
    "#절편, 기울기\n",
    "\n",
    "lin_reg.intercept_, lin_reg.coef_"
   ]
  },
  {
   "cell_type": "markdown",
   "id": "2c56b48c",
   "metadata": {},
   "source": [
    "> 절편에 대한 파라미터 ($\\theta_0$) <br>\n",
    "> 기울기 파라미터 ($\\theta_1$ & $\\theta_2$) ⬅️ 특성 $x_1$ & $x_1^2 $ 에 대한 파라미터"
   ]
  },
  {
   "cell_type": "code",
   "execution_count": 76,
   "id": "42f760ff",
   "metadata": {},
   "outputs": [
    {
     "name": "stdout",
     "output_type": "stream",
     "text": [
      "Saving figure quadratic_predictions_plot\n"
     ]
    },
    {
     "data": {
      "image/png": "[encoded data removed]",
      "text/plain": [
       "<Figure size 432x288 with 1 Axes>"
      ]
     },
     "metadata": {
      "needs_background": "light"
     },
     "output_type": "display_data"
    }
   ],
   "source": [
    "X_new = np.linspace(-3, 3, 100).reshape(100, 1) #새로운 샘플 100개\n",
    "X_new_poly = poly_features.transform(X_new)     #2차 다항 회귀 모델 데이터로 변환\n",
    "y_new = lin_reg.predict(X_new_poly)\n",
    "\n",
    "plt.plot(X, y, \"b.\")                                           #기존 데이터 산점도\n",
    "plt.plot(X_new, y_new, \"r-\", linewidth=2, label=\"Predictions\") #변환 데이터로 예측한 그래프\n",
    "\n",
    "plt.xlabel(\"$x_1$\", fontsize=18)\n",
    "plt.ylabel(\"$y$\", rotation=0, fontsize=18)\n",
    "plt.legend(loc=\"upper left\", fontsize=14)\n",
    "plt.axis([-3, 3, 0, 10])\n",
    "save_fig(\"quadratic_predictions_plot\")\n",
    "plt.show()\n"
   ]
  },
  {
   "cell_type": "markdown",
   "id": "95d0a65c",
   "metadata": {},
   "source": [
    "> `np.linspace(-3, 3, 100).reshape(100, 1)` : -3부터 3까지 균일한 간격으로 100개의 숫자 생성 --> 100행과 1열로 변환\n",
    "\n",
    "> - 기존 함수: $y = 0.5\\cdot x_1^2 + 2 + 가우시안 잡음$\n",
    "> - 변환된 함수: $y\\hat\\ = 0.56\\cdot x_1^2 + 0.93\\cdot x + 1.78$\n",
    "\n",
    "> 특성 여러 개 -> 다항 회귀는 이 특성 사이의 관계를 찾을 수 있음.\n",
    "    > PolynomialFeatures가 주어진 차수까지 특성 간의 모든 *교차항*을 추가하기 때문. <br>(ex. degree=3일 때, a^2, a^3, b^2, b^3 뿐 아니라 ab, a^2b, ab^2 도 특성으로 추가)"
   ]
  },
  {
   "cell_type": "code",
   "execution_count": null,
   "id": "1b9a6f44",
   "metadata": {},
   "outputs": [],
   "source": []
  },
  {
   "cell_type": "code",
   "execution_count": null,
   "id": "791cb54b",
   "metadata": {},
   "outputs": [],
   "source": []
  },
  {
   "cell_type": "code",
   "execution_count": null,
   "id": "a31d90b0",
   "metadata": {},
   "outputs": [],
   "source": []
  },
  {
   "cell_type": "code",
   "execution_count": null,
   "id": "07437aad",
   "metadata": {},
   "outputs": [],
   "source": []
  },
  {
   "cell_type": "code",
   "execution_count": null,
   "id": "be198d25",
   "metadata": {},
   "outputs": [],
   "source": []
  },
  {
   "cell_type": "code",
   "execution_count": null,
   "id": "909e976e",
   "metadata": {},
   "outputs": [],
   "source": []
  },
  {
   "cell_type": "code",
   "execution_count": null,
   "id": "4f2e57ce",
   "metadata": {},
   "outputs": [],
   "source": []
  },
  {
   "cell_type": "code",
   "execution_count": null,
   "id": "74ba9ae3",
   "metadata": {},
   "outputs": [],
   "source": []
  },
  {
   "cell_type": "code",
   "execution_count": null,
   "id": "6043fa3d",
   "metadata": {},
   "outputs": [],
   "source": []
  },
  {
   "cell_type": "code",
   "execution_count": null,
   "id": "07904594",
   "metadata": {},
   "outputs": [],
   "source": []
  }
 ],
 "metadata": {
  "kernelspec": {
   "display_name": "Python 3 (ipykernel)",
   "language": "python",
   "name": "python3"
  },
  "language_info": {
   "codemirror_mode": {
    "name": "ipython",
    "version": 3
   },
   "file_extension": ".py",
   "mimetype": "text/x-python",
   "name": "python",
   "nbconvert_exporter": "python",
   "pygments_lexer": "ipython3",
   "version": "3.10.4"
  }
 },
 "nbformat": 4,
 "nbformat_minor": 5
}
